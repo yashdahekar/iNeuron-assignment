{
 "cells": [
  {
   "cell_type": "code",
   "execution_count": null,
   "metadata": {},
   "outputs": [],
   "source": [
    "1. What is the role of the 'else' block in a try-except statement? Provide an example\n",
    "scenario where it would be useful."
   ]
  },
  {
   "cell_type": "code",
   "execution_count": 1,
   "metadata": {},
   "outputs": [
    {
     "name": "stdout",
     "output_type": "stream",
     "text": [
      "An error occurred: name 'perform_complex_operation' is not defined\n"
     ]
    }
   ],
   "source": [
    "'''The role of the 'else' block in a try-except statement is to specify a block of code that should be executed \n",
    "if no exceptions occur in the preceding try block. It allows you to differentiate between the code that \n",
    "should execute when an exception is raised and the code that should execute when no exception is raised.\n",
    "\n",
    "example scenario where the 'else' block would be useful: '''\n",
    "    \n",
    "try:\n",
    "    result = perform_complex_operation()\n",
    "except Exception as e:\n",
    "    print(\"An error occurred:\", str(e))\n",
    "else:\n",
    "    print(\"Operation completed successfully.\")\n",
    "    print(\"Result:\", result)\n"
   ]
  },
  {
   "cell_type": "code",
   "execution_count": null,
   "metadata": {},
   "outputs": [],
   "source": [
    "2. Can a try-except block be nested inside another try-except block? Explain with an\n",
    "example."
   ]
  },
  {
   "cell_type": "code",
   "execution_count": 2,
   "metadata": {},
   "outputs": [
    {
     "name": "stdout",
     "output_type": "stream",
     "text": [
      "Inner finally block executed.\n",
      "An error occurred in the outer try block.\n"
     ]
    }
   ],
   "source": [
    "''' Yes, a try-except block can be nested inside another try-except block. This is known as nested exception \n",
    "handling. It allows you to handle exceptions at different levels of granularity and provides more \n",
    "fine-grained control over error handling.\n",
    "\n",
    "Here's an example:'''\n",
    "\n",
    "try:\n",
    "    try:\n",
    "        result = perform_complex_operation()\n",
    "    except ValueError:\n",
    "        print(\"Invalid value error occurred.\")\n",
    "    finally:\n",
    "        print(\"Inner finally block executed.\")\n",
    "except Exception:\n",
    "    print(\"An error occurred in the outer try block.\")\n"
   ]
  },
  {
   "cell_type": "code",
   "execution_count": null,
   "metadata": {},
   "outputs": [],
   "source": [
    "3. How can you create a custom exception class in Python? Provide an example that\n",
    "demonstrates its usage."
   ]
  },
  {
   "cell_type": "code",
   "execution_count": null,
   "metadata": {},
   "outputs": [],
   "source": [
    "'''To create a custom exception class in Python, you can define a new class that inherits from the built-in \n",
    "Exception class or any of its subclasses. You can add additional attributes or methods specific to your \n",
    "custom exception.\n",
    "Here's an example:'''\n",
    "\n",
    "class CustomException(Exception):\n",
    "    def __init__(self, message):\n",
    "        self.message = message\n",
    "\n",
    "    def __str__(self):\n",
    "        return self.message\n",
    "\n",
    "\n",
    "# Usage example\n",
    "try:\n",
    "    age = int(input(\"Enter your age: \"))\n",
    "    if age < 0:\n",
    "        raise CustomException(\"Age cannot be negative.\")\n",
    "except CustomException as ce:\n",
    "    print(\"Custom exception occurred:\", ce)\n"
   ]
  },
  {
   "cell_type": "code",
   "execution_count": null,
   "metadata": {},
   "outputs": [],
   "source": [
    "4. What are some common exceptions that are built-in to Python?\n"
   ]
  },
  {
   "cell_type": "code",
   "execution_count": null,
   "metadata": {},
   "outputs": [],
   "source": [
    "'''\n",
    "Yes there are some\n",
    "Some common exceptions that are built-in to Python include:\n",
    "\n",
    "SyntaxError:       Raised when there is a syntax error in the code.\n",
    "TypeError:         Raised when an operation is performed on an object of an inappropriate type.\n",
    "ValueError:        Raised when a function receives an argument of the correct type but an invalid value.\n",
    "FileNotFoundError: Raised when a file or directory is not found.\n",
    "IndexError:        Raised when a sequence subscript is out of range.\n",
    "KeyError:          Raised when a dictionary key is not found.\n",
    "ZeroDivisionError: Raised when division or modulo by zero is performed.\n",
    "'''"
   ]
  },
  {
   "cell_type": "code",
   "execution_count": null,
   "metadata": {},
   "outputs": [],
   "source": [
    "5. What is logging in Python, and why is it important in software development?\n"
   ]
  },
  {
   "cell_type": "code",
   "execution_count": null,
   "metadata": {},
   "outputs": [],
   "source": [
    "Logging in Python refers to the process of recording events or messages that occur during the execution of a \n",
    "program. It allows developers to collect valuable information about the program's behavior, performance, and \n",
    "potential errors. Python provides a built-in logging module that makes it easy to incorporate logging \n",
    "functionality into software development.\n",
    "\n",
    "Logging is important in software development for several reasons:\n",
    "\n",
    "a) Debugging: Logging helps in identifying and diagnosing issues during development and testing phases. \n",
    "Developers can insert log statements at critical points in the code to track the program's flow and state.\n",
    "\n",
    "b) Error tracking: When an error occurs in a production environment, logging can provide crucial information \n",
    "about the cause of the error. Logs can help in reproducing the error, analyzing its impact, and identifying \n",
    "potential fixes.\n",
    "\n",
    "c) Performance analysis: By logging relevant performance metrics, developers can monitor the application's \n",
    "efficiency, identify bottlenecks, and optimize code and system resources accordingly.\n",
    "\n",
    "d) Auditing and compliance: Logging enables tracking of user actions and system events, which is important \n",
    "for security auditing, compliance with regulations, and troubleshooting."
   ]
  },
  {
   "cell_type": "code",
   "execution_count": null,
   "metadata": {},
   "outputs": [],
   "source": [
    "6. Explain the purpose of log levels in Python logging and provide examples of when\n",
    "each log level would be appropriate."
   ]
  },
  {
   "cell_type": "code",
   "execution_count": null,
   "metadata": {},
   "outputs": [],
   "source": [
    "Log levels in Python logging define the severity or importance of a log message. The logging module provides \n",
    "several pre-defined log levels:\n",
    "    \n",
    "a) DEBUG: The lowest level of log messages, used for detailed information during development or debugging. \n",
    "Example usage: Detailed variable values, function call tracing.\n",
    "\n",
    "b) INFO: Used for informational messages that highlight the progress of the application. Example usage: \n",
    "Startup messages, significant milestones, or successful operations.\n",
    "\n",
    "c) WARNING: Indicates potential issues or unexpected situations that are not necessarily errors but might \n",
    "require attention. Example usage: Deprecated function usage, file system nearing capacity.\n",
    "\n",
    "d) ERROR: Indicates errors that occurred during the execution of the program. These errors might impact the \n",
    "application's functionality. Example usage: Database connection failure, missing configuration files.\n",
    "\n",
    "e) CRITICAL: The highest level of severity, indicates critical errors that might result in the application's \n",
    "termination or inability to continue. Example usage: Unrecoverable exceptions, major system failures."
   ]
  },
  {
   "cell_type": "code",
   "execution_count": null,
   "metadata": {},
   "outputs": [],
   "source": [
    "7. What are log formatters in Python logging, and how can you customise the log\n",
    "message format using formatters?"
   ]
  },
  {
   "cell_type": "code",
   "execution_count": null,
   "metadata": {},
   "outputs": [],
   "source": [
    "Log formatters in Python logging are used to define the structure and format of log messages. They specify \n",
    "how the information should be presented in the log output. The logging module provides a variety of built-in \n",
    "formatters, but you can also create custom formatters to meet specific requirements.\n",
    "\n",
    "To customize the log message format using formatters, you need to create an instance of a formatter class and\n",
    "configure the logging module to use it. The formatter class provides various attributes that you can include \n",
    "in the log message format. For example, you can include the timestamp, log level, logger name, module name, \n",
    "and the actual log message.\n",
    "\n",
    "example of setting up a basic log formatter that includes the timestamp, log level, and log message:\n",
    "    \n",
    "import logging\n",
    "\n",
    "formatter = logging.Formatter('%(asctime)s - %(levelname)s - %(message)s')\n",
    "\n",
    "handler = logging.StreamHandler()\n",
    "handler.setFormatter(formatter)\n",
    "\n",
    "logger = logging.getLogger()\n",
    "logger.addHandler(handler)\n"
   ]
  },
  {
   "cell_type": "code",
   "execution_count": null,
   "metadata": {},
   "outputs": [],
   "source": [
    "8. How can you set up logging to capture log messages from multiple modules or\n",
    "classes in a Python application?"
   ]
  },
  {
   "cell_type": "code",
   "execution_count": null,
   "metadata": {},
   "outputs": [],
   "source": [
    "To capture log messages from multiple modules or classes in a Python application, you can follow these steps:\n",
    "    \n",
    "a) Create a logger instance in each module or class where you want to capture logs. Use the logging.getLogger\n",
    "(__name__) method, passing the __name__ attribute as the logger name. This ensures that each module or class \n",
    "gets a separate logger instance.\n",
    "\n",
    "b) Configure the logger handlers to specify where the log messages should be sent. For example, you can \n",
    "configure a file handler, console handler, or any other custom handler based on your requirements.\n",
    "\n",
    "c) Set the log level for each logger instance to define the minimum severity level of the messages to be \n",
    "captured. You can use the logger.setLevel(logging.<LEVEL>) method, where <LEVEL> can be DEBUG, INFO, WARNING, \n",
    "ERROR, or CRITICAL.\n",
    "\n",
    "# module1.py\n",
    "import logging\n",
    "\n",
    "logger = logging.getLogger(__name__)\n",
    "\n",
    "def do_something():\n",
    "    logger.info('Doing something in module1')\n",
    "\n",
    "# module2.py\n",
    "import logging\n",
    "\n",
    "logger = logging.getLogger(__name__)\n",
    "\n",
    "def do_something_else():\n",
    "    logger.info('Doing something else in module2')\n",
    "\n",
    "# main.py\n",
    "import logging\n",
    "import module1\n",
    "import module2\n",
    "\n",
    "logging.basicConfig(level=logging.INFO)\n",
    "\n",
    "module1.do_something()\n",
    "module2.do_something_else()\n"
   ]
  },
  {
   "cell_type": "code",
   "execution_count": null,
   "metadata": {},
   "outputs": [],
   "source": [
    "9. What is the difference between the logging and print statements in Python? When\n",
    "should you use logging over print statements in a real-world application?"
   ]
  },
  {
   "cell_type": "code",
   "execution_count": null,
   "metadata": {},
   "outputs": [],
   "source": [
    "The difference between logging and print statements in Python is as follows:\n",
    "    \n",
    "Print statements are used to display information directly to the console or standard output. They are \n",
    "primarily used for debugging purposes and temporary information display during development.\n",
    "\n",
    "Logging, on the other hand, is a more comprehensive and flexible approach for managing program output. It \n",
    "provides a systematic way to record and manage events, messages, and errors during the execution of the \n",
    "program. Logging allows you to capture information in a configurable manner, control log levels, and route \n",
    "log messages to different destinations (e.g., console, files, external services).\n",
    "\n",
    "In a real-world application, it is recommended to use logging over print statements due to the following \n",
    "advantages:\n",
    "    \n",
    "Flexibility: Logging provides various log levels (DEBUG, INFO, WARNING, ERROR, CRITICAL), allowing you to \n",
    "differentiate between different types of messages and manage their visibility based on the deployment \n",
    "environment.\n",
    "\n",
    "Configurability: With logging, you can configure different handlers, formatters, and filters to control where\n",
    "and how log messages are recorded and displayed.\n",
    "\n",
    "Persistence: Log messages can be stored in files, databases, or external services, enabling post-execution\n",
    "analysis, error tracking, and debugging.\n",
    "\n",
    "Granular control: Logging allows you to enable or disable specific log levels or components selectively, \n",
    "which can be crucial for troubleshooting and performance optimization.\n",
    "\n",
    "Compatibility: Libraries and frameworks often rely on logging for their own logging purposes, so using the \n",
    "logging module provides a consistent approach across the entire application.\n"
   ]
  },
  {
   "cell_type": "code",
   "execution_count": null,
   "metadata": {},
   "outputs": [],
   "source": [
    "10. Write a Python program that logs a message to a file named \"app.log\" with the\n",
    "following requirements:\n",
    "● The log message should be \"Hello, INeuron!\"\n",
    "● The log level should be set to \"INFO.\"\n",
    "● The log file should append new log entries without overwriting previous ones."
   ]
  },
  {
   "cell_type": "code",
   "execution_count": null,
   "metadata": {},
   "outputs": [],
   "source": [
    "python program that logs a message to a file named \"app.log\" with the specified requirements:\n",
    "\n",
    "import logging\n",
    "\n",
    "\n",
    "logging.basicConfig(filename='app.log', level=logging.INFO, filemode='a')\n",
    "logging.info('Hello, Ineuron!')\n"
   ]
  },
  {
   "cell_type": "code",
   "execution_count": null,
   "metadata": {},
   "outputs": [],
   "source": [
    "11. Create a Python program that logs an error message to the console and a file named\n",
    "\"errors.log\" if an exception occurs during the program's execution. The error\n",
    "message should include the exception type and a timestamp."
   ]
  },
  {
   "cell_type": "code",
   "execution_count": null,
   "metadata": {},
   "outputs": [],
   "source": [
    "import logging\n",
    "import datetime\n",
    "\n",
    "logging.basicConfig(level=logging.ERROR)\n",
    "\n",
    "file_handler = logging.FileHandler('errors.log')\n",
    "file_handler.setLevel(logging.ERROR)\n",
    "file_formatter = logging.Formatter('%(asctime)s - %(levelname)s - %(message)s')\n",
    "file_handler.setFormatter(file_formatter)\n",
    "\n",
    "logger = logging.getLogger(__name__)\n",
    "logger.addHandler(file_handler)\n",
    "\n",
    "try:\n",
    "    # Your program logic here\n",
    "    raise ValueError(\"Something went wrong!\")\n",
    "\n",
    "except Exception as e:\n",
    "    # Log the exception message with timestamp\n",
    "    error_msg = f\"{datetime.datetime.now()} - {type(e).__name__} - {str(e)}\"\n",
    "    logger.error(error_msg)\n",
    "    print(\"An error occurred. Check the error.log file for details.\")"
   ]
  }
 ],
 "metadata": {
  "kernelspec": {
   "display_name": "base",
   "language": "python",
   "name": "python3"
  },
  "language_info": {
   "codemirror_mode": {
    "name": "ipython",
    "version": 3
   },
   "file_extension": ".py",
   "mimetype": "text/x-python",
   "name": "python",
   "nbconvert_exporter": "python",
   "pygments_lexer": "ipython3",
   "version": "3.10.9"
  },
  "orig_nbformat": 4
 },
 "nbformat": 4,
 "nbformat_minor": 2
}
