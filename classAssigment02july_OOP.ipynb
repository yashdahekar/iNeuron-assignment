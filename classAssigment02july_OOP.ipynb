{
 "cells": [
  {
   "cell_type": "code",
   "execution_count": null,
   "metadata": {},
   "outputs": [],
   "source": [
    "1.the Person class has a constructor that takes name and age as arguments and assigns them to the object's attributes. The introduce method is then invoked on the object to introduce the person."
   ]
  },
  {
   "cell_type": "code",
   "execution_count": 3,
   "metadata": {},
   "outputs": [
    {
     "name": "stdout",
     "output_type": "stream",
     "text": [
      "Name: Yash \n",
      "Age:23 \n"
     ]
    }
   ],
   "source": [
    "class Person:\n",
    "    def __init__(self, name , age):\n",
    "        self.name = name \n",
    "        self.age = age\n",
    "        \n",
    "    def print_info(self):\n",
    "        print(f\"Name: {self.name} \\nAge:{self.age} \")\n",
    "        \n",
    "person1 = Person(\"Yash\",23)\n",
    "person1.print_info()"
   ]
  },
  {
   "cell_type": "code",
   "execution_count": null,
   "metadata": {},
   "outputs": [],
   "source": [
    "2.the Car class has a constructor that takes brand and model as arguments and assigns them to the object's attributes. The display_info method is then invoked on the object to display the car's brand and model."
   ]
  },
  {
   "cell_type": "code",
   "execution_count": 7,
   "metadata": {},
   "outputs": [
    {
     "name": "stdout",
     "output_type": "stream",
     "text": [
      "Brand: toyota \n",
      "Model: X7 \n"
     ]
    }
   ],
   "source": [
    "class Car: \n",
    "    def __init__(self, brand, model) :\n",
    "        self.brand = brand\n",
    "        self.model = model\n",
    "    \n",
    "    def show_info(self):\n",
    "        print(f\"Brand: {self.brand} \\nModel: {self.model} \")\n",
    "        \n",
    "car1 = Car(\"toyota\",\"X7\")\n",
    "car1.show_info()"
   ]
  },
  {
   "cell_type": "code",
   "execution_count": null,
   "metadata": {},
   "outputs": [],
   "source": [
    "3.the BankAccount class has a constructor that takes account_number and balance as arguments and assigns them to the object's attributes. The display_balance method is then invoked on the object to display the account number and balance."
   ]
  },
  {
   "cell_type": "code",
   "execution_count": 11,
   "metadata": {},
   "outputs": [
    {
     "name": "stdout",
     "output_type": "stream",
     "text": [
      "account_number: 324325423 \n",
      "balance: 342234 \n"
     ]
    }
   ],
   "source": [
    "class BankAccount:\n",
    "    def __init__(self,account_number, balance) -> None:\n",
    "        self.account_number = account_number\n",
    "        self.balance = balance\n",
    "    \n",
    "    def display_balance(self):\n",
    "        print(f\"account_number: {self.account_number} \\nbalance: {self.balance} \")\n",
    "\n",
    "hdfc = BankAccount(\"324325423\", 342234)\n",
    "hdfc.display_balance()\n"
   ]
  },
  {
   "cell_type": "code",
   "execution_count": null,
   "metadata": {},
   "outputs": [],
   "source": [
    "4.the MobilePhone class has a constructor that takes brand and model as arguments and assigns them to the object's attributes. The make_call method is then invoked on the object to make a call with the phone."
   ]
  },
  {
   "cell_type": "code",
   "execution_count": 14,
   "metadata": {},
   "outputs": [
    {
     "name": "stdout",
     "output_type": "stream",
     "text": [
      "calling.....\n"
     ]
    }
   ],
   "source": [
    "class MobilePhone():\n",
    "    def __init__(self,brand,model) -> None:\n",
    "        self.brand = brand\n",
    "        self.model = model\n",
    "        \n",
    "    def make_call(self):\n",
    "        print(\"calling.....\")\n",
    "        \n",
    "iPhone = MobilePhone(\"Apple\", \"10\")\n",
    "iPhone.make_call()"
   ]
  },
  {
   "cell_type": "code",
   "execution_count": null,
   "metadata": {},
   "outputs": [],
   "source": [
    "5.the Book class has a constructor that takes title and author as arguments and assigns them to the object's attributes. The display_info method is then invoked on the object to display the book's title and author."
   ]
  },
  {
   "cell_type": "code",
   "execution_count": 15,
   "metadata": {},
   "outputs": [
    {
     "name": "stdout",
     "output_type": "stream",
     "text": [
      "Title: How not to successed \n",
      "Author: bichara anil \n"
     ]
    }
   ],
   "source": [
    "class Book:\n",
    "    def __init__(self,title,author) -> None:\n",
    "        self.title = title\n",
    "        self.author = author\n",
    "    \n",
    "    def display_info(self):\n",
    "        print(f\"Title: {self.title} \\nAuthor: {self.author} \")\n",
    "\n",
    "meowbook = Book(\"How not to successed\", 'bichara anil')\n",
    "meowbook.display_info()        "
   ]
  },
  {
   "cell_type": "code",
   "execution_count": null,
   "metadata": {},
   "outputs": [],
   "source": [
    "6.Vehicles: Create a base class called Vehicle with attributes such as make, model, and year. Implement two subclasses Car and Motorcycle that inherit from Vehicle. Add additional methods to the subclasses, such as start_engine() and stop_engine(), and handle any specific behavior or rules for each vehicle type."
   ]
  },
  {
   "cell_type": "code",
   "execution_count": 17,
   "metadata": {},
   "outputs": [
    {
     "name": "stdout",
     "output_type": "stream",
     "text": [
      "made by Ford model Mustang year of manufacturing 2023 and number of wheels 4\n",
      "starting engine.....\n",
      "stoping engine....\n",
      "made by Kawasaki model Ninja 650 year of manufacturing 2022 and number of wheels 2\n",
      "starting engine.....\n",
      "stoping engine....\n"
     ]
    }
   ],
   "source": [
    "class Vehicles:\n",
    "    def __init__(self, make , model, year) -> None:\n",
    "        self.make = make \n",
    "        self.model = model\n",
    "        self.year = year\n",
    "    \n",
    "class Car(Vehicles):\n",
    "    def __init__(self, make, model, year, num_wheel):\n",
    "        super().__init__(make, model, year)\n",
    "        self.num_wheel = num_wheel\n",
    "        \n",
    "    def display_info(self):\n",
    "        print(f\"made by {self.make} model {self.model} year of manufacturing {self.year} and number of wheels {self.num_wheel}\")\n",
    "    \n",
    "    def start_engine(self):\n",
    "        print(\"starting engine.....\")\n",
    "    \n",
    "    def stop_engine(self):\n",
    "        print(\"stoping engine....\")\n",
    "        \n",
    "class MotorCycle(Vehicles):\n",
    "    def __init__(self, make, model, year, num_wheel):\n",
    "        super().__init__(make, model, year)\n",
    "        self.num_wheel = num_wheel\n",
    "        \n",
    "    def display_info(self):\n",
    "        print(f\"made by {self.make} model {self.model} year of manufacturing {self.year} and number of wheels {self.num_wheel}\")\n",
    "    \n",
    "    def start_engine(self):\n",
    "        print(\"starting engine.....\")\n",
    "    \n",
    "    def stop_engine(self):\n",
    "        print(\"stoping engine....\")\n",
    "        \n",
    "car1 = Car(\"Ford\", \"Mustang\", 2023, 4)\n",
    "car1.display_info()  \n",
    "car1.start_engine()  \n",
    "car1.stop_engine()   \n",
    "\n",
    "motorcycle1 = MotorCycle(\"Kawasaki\", \"Ninja 650\", 2022, 2)\n",
    "motorcycle1.display_info()  \n",
    "motorcycle1.start_engine()  \n",
    "motorcycle1.stop_engine()  "
   ]
  },
  {
   "cell_type": "code",
   "execution_count": null,
   "metadata": {},
   "outputs": [],
   "source": [
    "7.Animals: Create a base class called Animal with methods such as eat() and sleep(). Implement two subclasses Dog and Cat that inherit from Animal. Add additional methods to the subclasses, such as bark() for dogs and meow() for cats, and handle any specific behavior or rules for each animal type."
   ]
  },
  {
   "cell_type": "code",
   "execution_count": 18,
   "metadata": {},
   "outputs": [
    {
     "name": "stdout",
     "output_type": "stream",
     "text": [
      "fish\n",
      "8 hours\n",
      "cat meows...\n",
      "dog barks....\n"
     ]
    }
   ],
   "source": [
    "class Animal:\n",
    "    def __init__(self,eat,sleep) :\n",
    "        self.eat = eat\n",
    "        self.sleep = sleep\n",
    "    \n",
    "class Cat(Animal):\n",
    "    def __init__(self, eat, sleep,):\n",
    "        super().__init__(eat, sleep)\n",
    "    \n",
    "    def meow(self):\n",
    "        print('cat meows...')\n",
    "        \n",
    "class Dog(Animal):\n",
    "    def __init__(self, eat, sleep):\n",
    "        super().__init__(eat, sleep)\n",
    "    \n",
    "    def bark(self):\n",
    "        print(\"dog barks....\")\n",
    "        \n",
    "cat = Cat(\"fish\", \"12 hours\")\n",
    "dog = Dog(\"bones\", \"8 hours\")\n",
    "print(cat.eat)   \n",
    "print(dog.sleep)  \n",
    "cat.meow()        \n",
    "dog.bark()       \n"
   ]
  },
  {
   "cell_type": "code",
   "execution_count": null,
   "metadata": {},
   "outputs": [],
   "source": [
    "8.Library Catalog: Create a base class called LibraryItem with attributes such as title, author, and publication_year. Implement two subclasses Book and Magazine that inherit from LibraryItem. Add additional methods to the subclasses, such as checkout() and return_item(), and handle any specific behavior or rules for each item type."
   ]
  },
  {
   "cell_type": "code",
   "execution_count": 1,
   "metadata": {},
   "outputs": [
    {
     "name": "stdout",
     "output_type": "stream",
     "text": [
      "\n",
      "              Title: Jantar mantar\n",
      "              Author: modi ji\n",
      "              Publication Year: 1925\n",
      "              \n",
      "Checked out book successfully\n",
      "Returned book successfully\n",
      "\n",
      "              Title: National Geographic\n",
      "              Author: Various Authors\n",
      "              Publication Year: 2023\n",
      "              \n",
      "Checked out magazine successfully\n",
      "Returned magazine successfully\n"
     ]
    }
   ],
   "source": [
    "class LibraryItem:\n",
    "    def __init__(self, title, author, publication_year):\n",
    "        self.title = title\n",
    "        self.author = author\n",
    "        self.publication_year = publication_year\n",
    "    \n",
    "    def info(self):\n",
    "        print(f'''\n",
    "              Title: {self.title}\n",
    "              Author: {self.author}\n",
    "              Publication Year: {self.publication_year}\n",
    "              ''')\n",
    "\n",
    "class Book(LibraryItem):\n",
    "    def __init__(self, title, author, publication_year):\n",
    "        super().__init__(title, author, publication_year)\n",
    "    \n",
    "    def checkout(self):\n",
    "        print(\"Checked out book successfully\")\n",
    "    \n",
    "    def return_item(self):\n",
    "        print(\"Returned book successfully\")\n",
    "\n",
    "class Magazine(LibraryItem):\n",
    "    def __init__(self, title, author, publication_year):\n",
    "        super().__init__(title, author, publication_year)\n",
    "    \n",
    "    def checkout(self):\n",
    "        print(\"Checked out magazine successfully\")\n",
    "    \n",
    "    def return_item(self):\n",
    "        print(\"Returned magazine successfully\")\n",
    "\n",
    "book = Book(\"Jantar mantar\", \"modi ji\", 1925)\n",
    "book.info()\n",
    "book.checkout()\n",
    "book.return_item()\n",
    "magazine = Magazine(\"National Geographic\", \"Various Authors\", 2023)\n",
    "magazine.info()\n",
    "magazine.checkout()\n",
    "magazine.return_item()\n"
   ]
  },
  {
   "cell_type": "code",
   "execution_count": null,
   "metadata": {},
   "outputs": [],
   "source": [
    "9.Employees and Departments: Create a base class called Employee with attributes such as name, salary, and department. Implement two subclasses Manager and Staff that inherit from Employee. Add additional methods to the subclasses, such as assign_task() for managers and attend_meeting() for staff members. Create a separate class called Department that contains a list of employees and methods to add or remove employees from the department."
   ]
  },
  {
   "cell_type": "code",
   "execution_count": 4,
   "metadata": {},
   "outputs": [
    {
     "name": "stdout",
     "output_type": "stream",
     "text": [
      "\n",
      "\n",
      "Added employee Yash Dahekar to the department\n",
      "Added employee Amit shah to the department\n",
      "Added employee amber heard to the department\n",
      "\n",
      "Removed employee amber heard from the department\n",
      "\n",
      "Employees in the department:\n",
      "Name: Yash Dahekar, Salary: 5000, Department: Management\n",
      "Name: Amit shah, Salary: 3000, Department: Sales\n",
      "\n",
      "Manager Yash Dahekar has assigned the task: Prepare monthly report\n",
      "Manager Yash Dahekar is attending a meeting\n",
      "Amit shah has been assigned the task: Follow up with potential clients\n",
      "Staff member Amit shah is attending a meeting\n"
     ]
    }
   ],
   "source": [
    "class Employee:\n",
    "    def __init__(self, name, salary, department):\n",
    "        self.name = name\n",
    "        self.salary = salary\n",
    "        self.department = department\n",
    "\n",
    "    def assign_task(self, task):\n",
    "        print(f\"{self.name} has been assigned the task: {task}\")\n",
    "\n",
    "class Manager(Employee):\n",
    "    def __init__(self, name, salary, department):\n",
    "        super().__init__(name, salary, department)\n",
    "\n",
    "    def assign_task(self, task):\n",
    "        print(f\"Manager {self.name} has assigned the task: {task}\")\n",
    "\n",
    "    def attend_meeting(self):\n",
    "        print(f\"Manager {self.name} is attending a meeting\")\n",
    "\n",
    "class Staff(Employee):\n",
    "    def __init__(self, name, salary, department):\n",
    "        super().__init__(name, salary, department)\n",
    "\n",
    "    def attend_meeting(self):\n",
    "        print(f\"Staff member {self.name} is attending a meeting\")\n",
    "\n",
    "class Department:\n",
    "    def __init__(self):\n",
    "        self.employees = []\n",
    "\n",
    "    def add_employee(self, employee):\n",
    "        self.employees.append(employee)\n",
    "        print(f\"Added employee {employee.name} to the department\")\n",
    "\n",
    "    def remove_employee(self, employee):\n",
    "        if employee in self.employees:\n",
    "            self.employees.remove(employee)\n",
    "            print(f\"Removed employee {employee.name} from the department\")\n",
    "        else:\n",
    "            print(f\"Employee {employee.name} is not in the department\")\n",
    "\n",
    "    def display_employees(self):\n",
    "        print(\"Employees in the department:\")\n",
    "        for employee in self.employees:\n",
    "            print(f\"Name: {employee.name}, Salary: {employee.salary}, Department: {employee.department}\")\n",
    "            \n",
    "manager = Manager(\"Yash Dahekar\", 5000, \"Management\")\n",
    "staff1 = Staff(\"Amit shah\", 3000, \"Sales\")\n",
    "staff2 = Staff(\"amber heard\", 2500, \"Marketing\")\n",
    "print()\n",
    "department = Department()\n",
    "print()\n",
    "department.add_employee(manager)\n",
    "department.add_employee(staff1)\n",
    "department.add_employee(staff2)\n",
    "print()\n",
    "department.remove_employee(staff2)\n",
    "print()\n",
    "department.display_employees()\n",
    "print()\n",
    "manager.assign_task(\"Prepare monthly report\")\n",
    "manager.attend_meeting()\n",
    "staff1.assign_task(\"Follow up with potential clients\")\n",
    "staff1.attend_meeting()\n",
    "\n"
   ]
  },
  {
   "cell_type": "code",
   "execution_count": null,
   "metadata": {},
   "outputs": [],
   "source": [
    "10.Bank Transactions: Create a base class called BankAccount with attributes such as account_number and balance. Implement subclasses for different types of accounts such as CheckingAccount and SavingsAccount that inherit from BankAccount. Add additional methods to the subclasses, such as withdraw() and deposit(), and handle any specific behavior or rules for each account type."
   ]
  },
  {
   "cell_type": "code",
   "execution_count": 6,
   "metadata": {},
   "outputs": [
    {
     "name": "stdout",
     "output_type": "stream",
     "text": [
      "\n",
      "Deposited 500 into Account #123456789. Current balance: 1500\n",
      "Withdrew 200 from Checking Account #123456789. Current balance: 1300\n",
      "Withdrew 300 from Checking Account #123456789. Current balance: 1000\n",
      "\n",
      "Deposited 1000 into Account #987654321. Current balance: 6000\n",
      "Withdrew 2000 from Savings Account #987654321. Current balance: 4000\n",
      "Added interest of 200.0 to Savings Account #987654321. Current balance: 4200.0\n"
     ]
    }
   ],
   "source": [
    "class BankAccount:\n",
    "    def __init__(self, account_number, balance):\n",
    "        self.account_number = account_number\n",
    "        self.balance = balance\n",
    "\n",
    "    def deposit(self, amount):\n",
    "        self.balance += amount\n",
    "        print(f\"Deposited {amount} into Account #{self.account_number}. Current balance: {self.balance}\")\n",
    "\n",
    "    def withdraw(self, amount):\n",
    "        if self.balance >= amount:\n",
    "            self.balance -= amount\n",
    "            print(f\"Withdrew {amount} from Account #{self.account_number}. Current balance: {self.balance}\")\n",
    "        else:\n",
    "            print(\"Insufficient funds\")\n",
    "\n",
    "class CheckingAccount(BankAccount):\n",
    "    def __init__(self, account_number, balance):\n",
    "        super().__init__(account_number, balance)\n",
    "\n",
    "    def withdraw(self, amount):\n",
    "        if self.balance >= amount:\n",
    "            self.balance -= amount\n",
    "            print(f\"Withdrew {amount} from Checking Account #{self.account_number}. Current balance: {self.balance}\")\n",
    "        else:\n",
    "            print(\"Insufficient funds\")\n",
    "\n",
    "    def process_check(self, amount):\n",
    "        self.withdraw(amount)\n",
    "\n",
    "class SavingsAccount(BankAccount):\n",
    "    def __init__(self, account_number, balance):\n",
    "        super().__init__(account_number, balance)\n",
    "\n",
    "    def withdraw(self, amount):\n",
    "        if self.balance >= amount:\n",
    "            self.balance -= amount\n",
    "            print(f\"Withdrew {amount} from Savings Account #{self.account_number}. Current balance: {self.balance}\")\n",
    "        else:\n",
    "            print(\"Insufficient funds\")\n",
    "\n",
    "    def add_interest(self, interest_rate):\n",
    "        interest = self.balance * interest_rate\n",
    "        self.balance += interest\n",
    "        print(f\"Added interest of {interest} to Savings Account #{self.account_number}. Current balance: {self.balance}\")\n",
    "\n",
    "checking_account = CheckingAccount(\"123456789\", 1000)\n",
    "savings_account = SavingsAccount(\"987654321\", 5000)\n",
    "print()\n",
    "checking_account.deposit(500)\n",
    "checking_account.withdraw(200)\n",
    "checking_account.process_check(300)\n",
    "print()\n",
    "savings_account.deposit(1000)\n",
    "savings_account.withdraw(2000)\n",
    "savings_account.add_interest(0.05)\n"
   ]
  },
  {
   "cell_type": "code",
   "execution_count": null,
   "metadata": {},
   "outputs": [],
   "source": [
    "11.School Management System: Create a base class called Person with attributes such as name, age, and address. Implement subclasses for different roles such as Student, Teacher, and Staff that inherit from Person. Add additional methods to the subclasses, such as take_exam() for students and teach_subject() for teachers."
   ]
  },
  {
   "cell_type": "code",
   "execution_count": 7,
   "metadata": {},
   "outputs": [
    {
     "name": "stdout",
     "output_type": "stream",
     "text": [
      "\n",
      "Student Yash Dahekar is taking an exam in Math\n",
      "Teacher Amit Shah is teaching Science\n",
      "Staff member Modiji is performing Cleaning\n"
     ]
    }
   ],
   "source": [
    "class Person:\n",
    "    def __init__(self, name, age, address):\n",
    "        self.name = name\n",
    "        self.age = age\n",
    "        self.address = address\n",
    "\n",
    "class Student(Person):\n",
    "    def __init__(self, name, age, address, student_id):\n",
    "        super().__init__(name, age, address)\n",
    "        self.student_id = student_id\n",
    "\n",
    "    def take_exam(self, subject):\n",
    "        print(f\"Student {self.name} is taking an exam in {subject}\")\n",
    "\n",
    "class Teacher(Person):\n",
    "    def __init__(self, name, age, address, teacher_id):\n",
    "        super().__init__(name, age, address)\n",
    "        self.teacher_id = teacher_id\n",
    "\n",
    "    def teach_subject(self, subject):\n",
    "        print(f\"Teacher {self.name} is teaching {subject}\")\n",
    "\n",
    "class Staff(Person):\n",
    "    def __init__(self, name, age, address, staff_id):\n",
    "        super().__init__(name, age, address)\n",
    "        self.staff_id = staff_id\n",
    "\n",
    "    def perform_duty(self, duty):\n",
    "        print(f\"Staff member {self.name} is performing {duty}\")\n",
    "\n",
    "student = Student(\"Yash Dahekar\", 16, \"123 Main St\", \"S123\")\n",
    "teacher = Teacher(\"Amit Shah\", 35, \"456 Elm St\", \"T456\")\n",
    "staff = Staff(\"Modiji\", 25, \"789 Oak St\", \"ST789\")\n",
    "print()\n",
    "student.take_exam(\"Math\")\n",
    "teacher.teach_subject(\"Science\")\n",
    "staff.perform_duty(\"Cleaning\")\n"
   ]
  }
 ],
 "metadata": {
  "kernelspec": {
   "display_name": "base",
   "language": "python",
   "name": "python3"
  },
  "language_info": {
   "codemirror_mode": {
    "name": "ipython",
    "version": 3
   },
   "file_extension": ".py",
   "mimetype": "text/x-python",
   "name": "python",
   "nbconvert_exporter": "python",
   "pygments_lexer": "ipython3",
   "version": "3.10.9"
  },
  "orig_nbformat": 4
 },
 "nbformat": 4,
 "nbformat_minor": 2
}
