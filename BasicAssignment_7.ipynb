{
 "cells": [
  {
   "cell_type": "code",
   "execution_count": null,
   "metadata": {},
   "outputs": [],
   "source": [
    "Q.1. Create two int type variables, apply addition, subtraction, division and multiplications\n",
    "and store the results in variables. Then print the data in the following format by calling the\n",
    "variables:\n",
    "First variable is __ & second variable is __.\n",
    "Addition: __ + __ = __\n",
    "Subtraction: __ - __ = __\n",
    "Multiplication: __ * __ = __\n",
    "Division: __ / __ = __"
   ]
  },
  {
   "cell_type": "code",
   "execution_count": 1,
   "metadata": {},
   "outputs": [
    {
     "name": "stdout",
     "output_type": "stream",
     "text": [
      "First variable is 10 & second variable is 5\n",
      "Addition: 10 + 5 = 15\n",
      "Subtraction: 10 - 5 = 5\n",
      "Multiplication: 10 * 5 = 50\n",
      "Division: 10 / 5 = 2.0\n"
     ]
    }
   ],
   "source": [
    "# Create two int variables\n",
    "a = 10\n",
    "b = 5\n",
    "# Perform addition, subtraction, multiplication, and division\n",
    "addition = a + b\n",
    "subtraction = a - b\n",
    "multiplication = a * b\n",
    "division = a / b\n",
    "# Print the results in the specified format\n",
    "print(\"First variable is\", a, \"& second variable is\", b)\n",
    "print(\"Addition:\", a, \"+\", b, \"=\", addition)\n",
    "print(\"Subtraction:\", a, \"-\", b, \"=\", subtraction)\n",
    "print(\"Multiplication:\", a, \"*\", b, \"=\", multiplication)\n",
    "print(\"Division:\", a, \"/\", b, \"=\", division)\n"
   ]
  },
  {
   "cell_type": "code",
   "execution_count": null,
   "metadata": {},
   "outputs": [],
   "source": [
    "Q.2. What is the difference between the following operators:\n",
    "(i) ‘/’ & ‘//’\n",
    "(ii) ‘**’ & ‘^’"
   ]
  },
  {
   "cell_type": "code",
   "execution_count": 2,
   "metadata": {},
   "outputs": [
    {
     "name": "stdout",
     "output_type": "stream",
     "text": [
      "3.3333333333333335\n",
      "3\n",
      "8\n",
      "1\n"
     ]
    }
   ],
   "source": [
    "\"\"\"The difference between the '/' and '//' operators:\n",
    "'/' operator: Performs regular division and returns a float result with decimal places if necessary.\n",
    "example: \"\"\"\n",
    "result = 10 / 3\n",
    "print(result)  # Output: 3.3333333333333335\n",
    "\"\"\"\n",
    "'//' operator: Performs integer (floor) division and returns an integer result by discarding the decimal part.\n",
    "example: \"\"\"\n",
    "result = 10 // 3\n",
    "print(result)  # Output: 3\n",
    "\n",
    "\"\"\"The difference between the '**' and '^' operators:\n",
    "'**' operator: Performs exponentiation or raising a number to a power\n",
    "example: \"\"\"\n",
    "result = 2 ** 3\n",
    "print(result)  # Output: 8\n",
    "\"\"\"\n",
    "'^' operator: In Python, it is the bitwise XOR operator, performing the exclusive OR operation on the binary representation of two numbers.\n",
    "example: \"\"\"\n",
    "result = 2 ^ 3\n",
    "print(result)  # Output: 1\n"
   ]
  },
  {
   "cell_type": "code",
   "execution_count": null,
   "metadata": {},
   "outputs": [],
   "source": [
    "Q.3. List the logical operators."
   ]
  },
  {
   "cell_type": "code",
   "execution_count": null,
   "metadata": {},
   "outputs": [],
   "source": [
    "\"\"\"\n",
    "The logical operators in Python are:\n",
    "\n",
    "and: The logical AND operator returns True if both operands are True, and False otherwise.\n",
    "\n",
    "or: The logical OR operator returns True if at least one of the operands is True, and False if both operands are False.\n",
    "\n",
    "not: The logical NOT operator is a unary operator that negates the truth value of its operand. It returns True if the \n",
    "operand is False, and False if the operand is True.\"\"\""
   ]
  },
  {
   "cell_type": "code",
   "execution_count": null,
   "metadata": {},
   "outputs": [],
   "source": [
    "Q.4. Explain right shift operator and left shift operator with examples."
   ]
  },
  {
   "cell_type": "code",
   "execution_count": null,
   "metadata": {},
   "outputs": [],
   "source": [
    "\"\"\"Right Shift (>>) Operator:\n",
    "\n",
    "Moves the bits of a number towards the right.\n",
    "Each shift divides the number by 2.\n",
    "The rightmost bit is filled with the sign bit (for signed integers) or 0 (for unsigned integers).\"\"\"\n",
    "\n",
    "num = 12  # Binary: 1100\n",
    "shifted = num >> 2  # Shifting 2 positions to the right\n",
    "print(shifted)  # Output: 3  (Binary: 11)\n",
    "\n",
    "\n",
    "\"\"\"Left Shift (<<) Operator:\n",
    "\n",
    "Moves the bits of a number towards the left.\n",
    "Each shift multiplies the number by 2.\n",
    "The leftmost bits that exceed the bit width are discarded.\n",
    "These operators are used for bitwise shifting and manipulation of binary representations of numbers.\"\"\"\n",
    "\n",
    "num = 3  # Binary: 11\n",
    "shifted = num << 2  # Shifting 2 positions to the left\n",
    "print(shifted)  # Output: 12  (Binary: 1100)\n"
   ]
  },
  {
   "cell_type": "code",
   "execution_count": null,
   "metadata": {},
   "outputs": [],
   "source": [
    "Q.5. Create a list containing int type data of length 15. Then write a code to check if 10 is\n",
    "present in the list or not."
   ]
  },
  {
   "cell_type": "code",
   "execution_count": 28,
   "metadata": {},
   "outputs": [
    {
     "name": "stdout",
     "output_type": "stream",
     "text": [
      "[48, 59, 2, 23, 24, 10, 50, 98, 18, 19, 73, 96, 32, 65, 36]\n",
      "10 is present in the list\n"
     ]
    }
   ],
   "source": [
    "import random\n",
    "# Generate a list of 15 random integers between 1 and 100\n",
    "list1 = [random.randint(1, 100) for i in range(15)]\n",
    "# Print the generated list\n",
    "print(list1)\n",
    "# Define a function to check if 10 is present in a given list\n",
    "def tencheck(l):\n",
    "    if 10 in l:\n",
    "        return True\n",
    "# Check if 10 is present in the generated list using the tencheck function\n",
    "if tencheck(list1):\n",
    "    print('10 is present in the list')\n",
    "else:\n",
    "    print('10 is not present in the list')\n"
   ]
  },
  {
   "cell_type": "code",
   "execution_count": null,
   "metadata": {},
   "outputs": [],
   "source": []
  },
  {
   "cell_type": "code",
   "execution_count": null,
   "metadata": {},
   "outputs": [],
   "source": []
  }
 ],
 "metadata": {
  "kernelspec": {
   "display_name": "base",
   "language": "python",
   "name": "python3"
  },
  "language_info": {
   "codemirror_mode": {
    "name": "ipython",
    "version": 3
   },
   "file_extension": ".py",
   "mimetype": "text/x-python",
   "name": "python",
   "nbconvert_exporter": "python",
   "pygments_lexer": "ipython3",
   "version": "3.10.9"
  },
  "orig_nbformat": 4
 },
 "nbformat": 4,
 "nbformat_minor": 2
}
