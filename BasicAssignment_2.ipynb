{
 "cells": [
  {
   "cell_type": "markdown",
   "id": "a2ec9750",
   "metadata": {},
   "source": [
    "#### 1.What are the two values of the Boolean data type? How do you write them?"
   ]
  },
  {
   "cell_type": "code",
   "execution_count": null,
   "id": "0e7bfd33",
   "metadata": {},
   "outputs": [],
   "source": [
    "Answer ==> \n",
    "\n",
    "        The Boolean data type has two values True and False. In Python, \n",
    "        these values are written as \"True\" and \"False\", with the first letter capitalized.\n",
    "        Additionally, any non-zero numeric value, such as 1, 2, or 5, is interpreted as \"True\", \n",
    "        while 0 is interpreted as \"False\". Similarly, any empty string, tuple, list, dictionary ,or\n",
    "        set is interpreted as \"False\", while any non-empty one is interpreted as \"True\". For example,\n",
    "        \"\", {}, (), [], and set() are all considered \"False\", while \" \", \"yash\", \"ineuron\", {2,5,2}, \n",
    "        ('yash','meow') and [2,3,5] are considered \"True\"."
   ]
  },
  {
   "cell_type": "markdown",
   "id": "a2819513",
   "metadata": {},
   "source": [
    "#### 2. What are the three different types of Boolean operators?"
   ]
  },
  {
   "cell_type": "code",
   "execution_count": null,
   "id": "9f9f905c",
   "metadata": {},
   "outputs": [],
   "source": [
    "Answer ==> \n",
    "\n",
    "        There are three Boolean operators in Python:\n",
    "        \n",
    "    1. The \"and\" operator returns \"True\" only if both values are true otherwise it returns \"False\"\n",
    "    2. The \"or\" operator returns \"False\" only if both values are false otherwise it returns \"True\"\n",
    "    3. The \"not\" operator returns 'False' if value is \"True\" and returns \"True\" if value is \"True\""
   ]
  },
  {
   "cell_type": "markdown",
   "id": "a1326d21",
   "metadata": {},
   "source": [
    "#### 3. Make a list of each Boolean operator&#39;s truth tables (i.e. every possible combination of Booleanvalues for the operator and what it evaluate )."
   ]
  },
  {
   "cell_type": "code",
   "execution_count": null,
   "id": "0af7b239",
   "metadata": {},
   "outputs": [],
   "source": [
    " Answer ==> \n",
    " \n",
    " 1. The 'and' operator all possible combinations:\n",
    "        True and True ==> True\n",
    "        True and False ==> False\n",
    "        False and True ==> False\n",
    "        False and False ==> False\n",
    "        \n",
    " 2. The 'or' operator all possible combinations:\n",
    "        True or True ==> True\n",
    "        True or False ==> True\n",
    "        False or True ==> True\n",
    "        False or False ==> False\n",
    "        \n",
    " 3. The 'not' operator all possible combinations:\n",
    "        not True ==> False\n",
    "        not False == True"
   ]
  },
  {
   "cell_type": "markdown",
   "id": "89428bd6",
   "metadata": {},
   "source": [
    "#### 4. What are the values of the following expressions? \n",
    "    (5 > 4) and (3 == 5) \n",
    "    not (5 > 4) --> False\n",
    "    (5 > 4) or (3 == 5) \n",
    "    not ((5 > 4) or (3 == 5)) \n",
    "    (True and True) and (True == False)\n",
    "    (not False) or (not True)"
   ]
  },
  {
   "cell_type": "code",
   "execution_count": null,
   "id": "7db2e375",
   "metadata": {},
   "outputs": [],
   "source": [
    " Answer ==> \n",
    " \n",
    "    the values of the following expressions are:\n",
    "    (5 > 4) and (3 == 5)                 ==> False # True and False        ==> False\n",
    "    not (5 > 4)                          ==> False # not True              ==> False\n",
    "    (5 > 4) or (3 == 5)                  ==> True  # True or False         ==> True\n",
    "    not ((5 > 4) or (3 == 5))            ==> False # not( True or False )  ==> False\n",
    "    (True and True) and (True == False)  ==> False # True and False        ==> False\n",
    "    (not False) or (not True)            ==> True  # True or False         ==> True"
   ]
  },
  {
   "cell_type": "markdown",
   "id": "b2b9aa4d",
   "metadata": {},
   "source": [
    "#### 5. What are the six comparison operators?"
   ]
  },
  {
   "cell_type": "code",
   "execution_count": null,
   "id": "9f9c1c33",
   "metadata": {},
   "outputs": [],
   "source": [
    "Answer ==>  \n",
    "        \n",
    "       The six comparison operators in Python are: \n",
    "            \n",
    "           1. (==)  Equal to \n",
    "           2. (!=)  Not equal to\n",
    "           3. (> )  Greater than \n",
    "           4. (< )  Less than \n",
    "           5. (>=)  Greater than or equal to\n",
    "           6. (<=)  Less than or equal to"
   ]
  },
  {
   "cell_type": "markdown",
   "id": "320599ee",
   "metadata": {},
   "source": [
    "#### 6. How do you tell the difference between the equal to and assignment operators?Describe a condition and when you would use one."
   ]
  },
  {
   "cell_type": "code",
   "execution_count": null,
   "id": "0cfa30a1",
   "metadata": {},
   "outputs": [],
   "source": [
    "Answer ==> \n",
    "\n",
    "#     assinment operator (=) is used to assign values to variable \n",
    "#         for example \n",
    "        a = \"yash\"\n",
    "        b = [3,32,4] etc\n",
    "    \n",
    "#     whereas the comparison operator (==) is used to compare values which returns a boolean value\n",
    "#         for example\n",
    "        (a == b) #==> False # returns false as a is not equal to b"
   ]
  },
  {
   "cell_type": "markdown",
   "id": "25134724",
   "metadata": {},
   "source": [
    "#### 7. Identify the three blocks in this code:\n",
    "    spam = 0\n",
    "    if spam == 10:\n",
    "    print('eggs')\n",
    "    if spam > 5:\n",
    "    print('bacon')\n",
    "    else:\n",
    "    print('ham')\n",
    "    print('spam')\n",
    "    print('spam')"
   ]
  },
  {
   "cell_type": "code",
   "execution_count": null,
   "id": "f5a47565",
   "metadata": {},
   "outputs": [],
   "source": [
    "Answer ==> \n",
    "\n",
    "#     The given code is not correctly formatted it will give an error \n",
    "#     The correct syntax is:  \n",
    "            spam = 0\n",
    "            if spam == 10:\n",
    "                print('eggs')\n",
    "            if spam > 5:\n",
    "                print('bacon')\n",
    "            else:\n",
    "                print('ham')\n",
    "    \n",
    "            print('spam')\n",
    "            print('spam')\n",
    "            \n",
    "#     The blocks in this code are:\n",
    "#         1. assigned 0 value to spam\n",
    "#         2. if statement blocks a code and check the value of spam if it is equals to 10 then prints \n",
    "#            eggs\n",
    "#         3. if else blocks the code and check the value of spam if it's greater than 5 then prints \n",
    "#            bacon otherwise ham \n",
    "    "
   ]
  },
  {
   "cell_type": "markdown",
   "id": "20e8e128",
   "metadata": {},
   "source": [
    "####  8. Write code that prints Hello if 1 is stored in spam, prints Howdy if 2 is stored in spam, and prints Greetings! if anything else is stored in spam."
   ]
  },
  {
   "cell_type": "code",
   "execution_count": 4,
   "id": "f915270d",
   "metadata": {},
   "outputs": [
    {
     "name": "stdout",
     "output_type": "stream",
     "text": [
      "input a int value : 3\n",
      "Greetings!\n"
     ]
    }
   ],
   "source": [
    "# Answer ==>\n",
    "\n",
    "spam = int(input('input a int value : '))\n",
    "if spam == 1:\n",
    "    print(\"Hello\")\n",
    "elif spam == 2:\n",
    "    print(\"Howdy\")\n",
    "else :\n",
    "    print(\"Greetings!\")"
   ]
  },
  {
   "cell_type": "markdown",
   "id": "a12f7c28",
   "metadata": {},
   "source": [
    "#### 9.If your programme is stuck in an endless loop, what keys you’ll press?"
   ]
  },
  {
   "cell_type": "code",
   "execution_count": null,
   "id": "ce154ebe",
   "metadata": {},
   "outputs": [],
   "source": [
    "Answer ==>\n",
    "\n",
    "If a program is stuck in an endless loop one option to stop it is to press the \"Ctrl\" and \"C\" keys \n",
    "simultaneously. If this does not work, another option is to click on the \"Kernel\" tab in the Jupyter \n",
    "Notebook menu and select \"Restart & Clear Output\". This will restart the kernel and clear any output"
   ]
  },
  {
   "cell_type": "markdown",
   "id": "0ebda1c7",
   "metadata": {},
   "source": [
    "#### 10. How can you tell the difference between break and continue?"
   ]
  },
  {
   "cell_type": "code",
   "execution_count": null,
   "id": "e94b94f7",
   "metadata": {},
   "outputs": [],
   "source": [
    "# Answer ==>\n",
    "\n",
    "# \"break\" and \"continue\" are used to alter the flow of loops \n",
    "\n",
    "# 1. break is used to exit out of a loop when a certain condition is met the loop is immediately \n",
    "# terminated\n",
    "\n",
    "# break example \n",
    "     for i in range(10):\n",
    "    if i == 5:\n",
    "        break\n",
    "    print(i)\n",
    "# will print 0 to 4 and break the loop\n",
    "\n",
    "# 2. continue is used to skip over an iteration of a loop when a certain condition is met. the \n",
    "# program jumps to the next iteration of the loop, skipping any code that follows the continue \n",
    "\n",
    "# continue example\n",
    "    for i in range(10):\n",
    "        if i % 2 == 0:\n",
    "            continue\n",
    "    print(i)\n",
    "# will print 1, 3, 5, 7, 9"
   ]
  },
  {
   "cell_type": "markdown",
   "id": "d24a06c9",
   "metadata": {},
   "source": [
    "#### 11. In a for loop, what is the difference between range(10), range(0, 10), and range(0, 10, 1)?"
   ]
  },
  {
   "cell_type": "code",
   "execution_count": null,
   "id": "ee29eb16",
   "metadata": {},
   "outputs": [],
   "source": [
    "Answer ==> \n",
    "\n",
    "range(10) will create a sequence of numbers starting from 0 up to 9 (will not include 10). This is \n",
    "equivalent to range(0, 10).\n",
    "\n",
    "range(0, 10) will create a same sequence of numbers starting from 0 up to 9. This is equivalent to \n",
    "range(10).\n",
    "\n",
    "range(0, 10, 1) will again create a same sequence of numbers starting from 0 up to 9, with a step \n",
    "size of 1. The step size determines how much the value of the sequence increases by in each iteration.\n",
    "the step size is 1, so the sequence will be 0, 1, 2, 3, ..., 9."
   ]
  },
  {
   "cell_type": "markdown",
   "id": "3351a511",
   "metadata": {},
   "source": [
    "#### 12. Write a short program that prints the numbers 1 to 10 using a for loop. Then write an equivalent program that prints the numbers 1 to 10 using a while loop."
   ]
  },
  {
   "cell_type": "code",
   "execution_count": 8,
   "id": "52ec89a2",
   "metadata": {},
   "outputs": [
    {
     "name": "stdout",
     "output_type": "stream",
     "text": [
      "1\n",
      "2\n",
      "3\n",
      "4\n",
      "5\n",
      "6\n",
      "7\n",
      "8\n",
      "9\n",
      "10\n",
      "1\n",
      "2\n",
      "3\n",
      "4\n",
      "5\n",
      "6\n",
      "7\n",
      "8\n",
      "9\n",
      "10\n"
     ]
    }
   ],
   "source": [
    "# Answer ==> \n",
    "\n",
    "#  1 to 10 using a for loop\n",
    "for i in range(1,11):\n",
    "    print(i)\n",
    "#  1 to 10 using a while loop\n",
    "a = 1\n",
    "while a <= 10:\n",
    "    print(a)\n",
    "    a += 1"
   ]
  },
  {
   "cell_type": "markdown",
   "id": "a55e8939",
   "metadata": {},
   "source": [
    "#### 13. If you had a function named bacon() inside a module named spam, how would you call it after importing spam?"
   ]
  },
  {
   "cell_type": "code",
   "execution_count": null,
   "id": "a1a3fef7",
   "metadata": {},
   "outputs": [],
   "source": [
    "Answer ==>  #solved with the help of internate \n",
    "\n",
    "#      Assuming that bacon() is a function defined inside the spam module, you can call it after \n",
    "# importing spam by using the dot notation to specify the module and function name as follows\n",
    "     \n",
    "import spam\n",
    "spam.bacon()\n",
    "\n",
    "#      This will import the spam module and then call the bacon() function inside it.If you only need \n",
    "# to use the bacon() function from the spam module and not any other functions or variables from the \n",
    "# module, you can use the from...import statement to import the function directly:\n",
    "     \n",
    "from spam import bacon\n",
    "bacon()\n",
    "\n",
    "#     This will import only the bacon() function from the spam module and make it available for use \n",
    "# in your code without having to use the module name prefix."
   ]
  }
 ],
 "metadata": {
  "kernelspec": {
   "display_name": "Python 3 (ipykernel)",
   "language": "python",
   "name": "python3"
  },
  "language_info": {
   "codemirror_mode": {
    "name": "ipython",
    "version": 3
   },
   "file_extension": ".py",
   "mimetype": "text/x-python",
   "name": "python",
   "nbconvert_exporter": "python",
   "pygments_lexer": "ipython3",
   "version": "3.10.9"
  }
 },
 "nbformat": 4,
 "nbformat_minor": 5
}
