{
 "cells": [
  {
   "cell_type": "code",
   "execution_count": null,
   "metadata": {},
   "outputs": [],
   "source": [
    "# \"\"\"1. What does an empty dictionary's code look like?\"\"\""
   ]
  },
  {
   "cell_type": "code",
   "execution_count": null,
   "metadata": {},
   "outputs": [],
   "source": [
    "\"\"\"Answer: An empty dictionary's code looks like this: {}\"\"\""
   ]
  },
  {
   "cell_type": "code",
   "execution_count": null,
   "metadata": {},
   "outputs": [],
   "source": [
    "# \"\"\"2. What is the value of a dictionary value with the key 'foo' and the value 42?\"\"\""
   ]
  },
  {
   "cell_type": "code",
   "execution_count": null,
   "metadata": {},
   "outputs": [],
   "source": [
    "\"\"\"Answer: The value of the dictionary value with the key 'foo' and the value 42 is 42.\"\"\""
   ]
  },
  {
   "cell_type": "code",
   "execution_count": null,
   "metadata": {},
   "outputs": [],
   "source": [
    "# \"\"\"3. What is the most significant distinction between a dictionary and a list?\"\"\""
   ]
  },
  {
   "cell_type": "code",
   "execution_count": null,
   "metadata": {},
   "outputs": [],
   "source": [
    "\"\"\"Answer: The most significant distinction between a dictionary and a list is that a dictionary is an collection of key-value pairs,\n",
    " while a list is an ordered collection of values.\"\"\""
   ]
  },
  {
   "cell_type": "code",
   "execution_count": null,
   "metadata": {},
   "outputs": [],
   "source": [
    "# \"\"\"4. What happens if you try to access spam['foo'] if spam is {'bar': 100}?\"\"\""
   ]
  },
  {
   "cell_type": "code",
   "execution_count": null,
   "metadata": {},
   "outputs": [],
   "source": [
    "\"\"\"Answer: If you try to access spam['foo'] when spam is {'bar': 100}, you will get a KeyError\"\"\""
   ]
  },
  {
   "cell_type": "code",
   "execution_count": null,
   "metadata": {},
   "outputs": [],
   "source": [
    "# \"\"\"5. If a dictionary is stored in spam, what is the difference between the expressions 'cat'\n",
    "#  in spam and 'cat' in spam.keys()?\"\"\""
   ]
  },
  {
   "cell_type": "code",
   "execution_count": null,
   "metadata": {},
   "outputs": [],
   "source": [
    "\"\"\"Answer: The expression 'cat' in spam checks if 'cat' is a key in the dictionary,\n",
    " while the expression 'cat' in spam.keys() checks if 'cat' is a key in the dictionary.\"\"\""
   ]
  },
  {
   "cell_type": "code",
   "execution_count": null,
   "metadata": {},
   "outputs": [],
   "source": [
    "# \"\"\"6. If a dictionary is stored in spam, what is the difference between the expressions \n",
    "# 'cat' in spam and 'cat' in spam.values()?\"\"\""
   ]
  },
  {
   "cell_type": "code",
   "execution_count": null,
   "metadata": {},
   "outputs": [],
   "source": [
    "\"\"\"Answer: The expression 'cat' in spam checks if 'cat' is a key in the dictionary, \n",
    "while the expression 'cat' in spam.values() checks if 'cat' is a value in the dictionary.\"\"\""
   ]
  },
  {
   "cell_type": "code",
   "execution_count": null,
   "metadata": {},
   "outputs": [],
   "source": [
    "# \"\"\"7. What is a shortcut for the following code?\n",
    "# if 'color' not in spam:\n",
    "# spam['color'] = 'black'\n",
    "# \"\"\""
   ]
  },
  {
   "cell_type": "code",
   "execution_count": null,
   "metadata": {},
   "outputs": [],
   "source": [
    "\"\"\"Answer:  A shortcut for the above code is spam.setdefault('color', 'black').\"\"\""
   ]
  },
  {
   "cell_type": "code",
   "execution_count": null,
   "metadata": {},
   "outputs": [],
   "source": [
    "# \"\"\"8. How do you \"pretty print\" dictionary values using which module and function?\"\"\""
   ]
  },
  {
   "cell_type": "code",
   "execution_count": null,
   "metadata": {},
   "outputs": [],
   "source": [
    "\"\"\"Answer: You can \"pretty print\" dictionary values using the pprint module and the pprint() \n",
    "function. You can import the module using import pprint and use the function like pprint.pprint\n",
    "(dict). This will print the dictionary in a more readable format with line breaks and indentation.\"\"\""
   ]
  }
 ],
 "metadata": {
  "language_info": {
   "name": "python"
  },
  "orig_nbformat": 4
 },
 "nbformat": 4,
 "nbformat_minor": 2
}
