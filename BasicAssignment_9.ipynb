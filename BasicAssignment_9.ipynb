{
 "cells": [
  {
   "cell_type": "code",
   "execution_count": null,
   "metadata": {},
   "outputs": [],
   "source": [
    "1. What is a lambda function in Python, and how does it differ from a regular function?"
   ]
  },
  {
   "cell_type": "code",
   "execution_count": null,
   "metadata": {},
   "outputs": [],
   "source": [
    "'''A lambda function in Python is a small anonymous function that can be defined using the lambda keyword.\n",
    "It is called \"anonymous\" because it does not require a function name. Lambda functions are commonly\n",
    "used when a simple function is needed for a short duration or when a function is required as an argument\n",
    "to another function.\n",
    "The main difference between a lambda function and a regular function is that a lambda function can be \n",
    "defined in a single line and does not require a return statement. It is primarily used for small, \n",
    "one-line functions that don't need the full structure of a regular function.'''\n"
   ]
  },
  {
   "cell_type": "code",
   "execution_count": null,
   "metadata": {},
   "outputs": [],
   "source": [
    "2. Can a lambda function in Python have multiple arguments? If yes, how can you define and use\n",
    "them?"
   ]
  },
  {
   "cell_type": "code",
   "execution_count": 1,
   "metadata": {},
   "outputs": [
    {
     "name": "stdout",
     "output_type": "stream",
     "text": [
      "8\n"
     ]
    }
   ],
   "source": [
    "'''Yes, a lambda function in Python can have multiple arguments. The syntax to define a lambda function\n",
    "with multiple arguments is as follows:'''\n",
    "\n",
    "# lambda arg1, arg2, ..., argn: expression\n",
    "\n",
    "'''Here, arg1, arg2, ..., argN are the arguments, and expression is the operation or computation to be performed.\n",
    "To use a lambda function with multiple arguments, you can assign it to a variable and then call the variable as\n",
    "a regular function, passing the required arguments.'''\n",
    "\n",
    "a = lambda arg1, arg2: arg1 + arg2\n",
    "result = a(3, 5)\n",
    "print(result) "
   ]
  },
  {
   "cell_type": "code",
   "execution_count": null,
   "metadata": {},
   "outputs": [],
   "source": [
    "3. How are lambda functions typically used in Python? Provide an example use case."
   ]
  },
  {
   "cell_type": "code",
   "execution_count": 2,
   "metadata": {},
   "outputs": [
    {
     "name": "stdout",
     "output_type": "stream",
     "text": [
      "[1, 4, 9, 16, 25]\n"
     ]
    }
   ],
   "source": [
    "'''Lambda functions are typically used in Python for situations where a small,short-lived function is needed, \n",
    "especially in cases where a function is required as an argument to another function. Some common use cases\n",
    "of lambda functions include:\n",
    "As an argument to higher-order functions like map(), filter(), and reduce(). \n",
    "Lambda functions can be used to define simple operations on elements of lists or other iterables'''\n",
    "\n",
    "numbers = [1, 2, 3, 4, 5]\n",
    "squared = list(map(lambda x: x**2, numbers))\n",
    "print(squared) \n"
   ]
  },
  {
   "cell_type": "code",
   "execution_count": null,
   "metadata": {},
   "outputs": [],
   "source": [
    "4. What are the advantages and limitations of lambda functions compared to regular functions in\n",
    "Python?"
   ]
  },
  {
   "cell_type": "code",
   "execution_count": null,
   "metadata": {},
   "outputs": [],
   "source": [
    "# Advantages of lambda functions compared to regular functions in Python:\n",
    "\n",
    "'''Conciseness: Lambda functions allow you to define simple functions in a single line, without the need for\n",
    "a full function declaration.\n",
    "Readability: In some cases, using a lambda function can make the code more readable,especially when the \n",
    "operation is straightforward and doesn't require complex logic.\n",
    "Flexibility: Lambda functions can be used as inline functions or arguments to other functions,providing \n",
    "flexibility in programming.'''\n",
    "\n",
    "# Limitations of lambda functions compared to regular functions in Python:\n",
    "\n",
    "'''Limited functionality: Lambda functions are designed for simple, one-line operations. They cannot contain multiple\n",
    "statements or complex logic.\n",
    "Lack of name: Lambda functions are anonymous, which means they don't have a name associated with them. This can\n",
    "make debugging and error messages less clear compared to regular functions.\n",
    "Reduced reusability: Lambda functions are typically used for small, specific tasks and are not intended for reuse\n",
    "across multiple parts of a program. Regular functions, on the other hand, can be defined once and used in multiple\n",
    "places.'''"
   ]
  },
  {
   "cell_type": "code",
   "execution_count": null,
   "metadata": {},
   "outputs": [],
   "source": [
    "5. Are lambda functions in Python able to access variables defined outside of their own scope?\n",
    "Explain with an example."
   ]
  },
  {
   "cell_type": "code",
   "execution_count": 4,
   "metadata": {},
   "outputs": [
    {
     "name": "stdout",
     "output_type": "stream",
     "text": [
      "15\n"
     ]
    }
   ],
   "source": [
    "'''Yes, lambda functions in Python can access variables defined outside of their own scope. This concept is known as\n",
    "\"lexical scoping\" or \"closure.\" When a lambda function is defined, it can access variables from the enclosing scope\n",
    "in which it is defined.\n",
    "example:'''\n",
    "\n",
    "def outfunc():\n",
    "    x = 10\n",
    "    lambda_func = lambda y: x + y\n",
    "    return lambda_func\n",
    "\n",
    "my_lambda = outfunc()\n",
    "result = my_lambda(5)\n",
    "print(result)"
   ]
  },
  {
   "cell_type": "code",
   "execution_count": null,
   "metadata": {},
   "outputs": [],
   "source": [
    "6. Write a lambda function to calculate the square of a given number."
   ]
  },
  {
   "cell_type": "code",
   "execution_count": 3,
   "metadata": {},
   "outputs": [
    {
     "name": "stdout",
     "output_type": "stream",
     "text": [
      "16\n"
     ]
    }
   ],
   "source": [
    "square = lambda x: x ** 2\n",
    "result = square(4)\n",
    "print(result) \n"
   ]
  },
  {
   "cell_type": "code",
   "execution_count": null,
   "metadata": {},
   "outputs": [],
   "source": [
    "7. Create a lambda function to find the maximum value in a list of integers."
   ]
  },
  {
   "cell_type": "code",
   "execution_count": 5,
   "metadata": {},
   "outputs": [
    {
     "name": "stdout",
     "output_type": "stream",
     "text": [
      "9\n"
     ]
    }
   ],
   "source": [
    "find_max = lambda a: max(a)\n",
    "numbers = [5, 2, 9, 1, 7]\n",
    "max_value = find_max(numbers)\n",
    "print(max_value) "
   ]
  },
  {
   "cell_type": "code",
   "execution_count": null,
   "metadata": {},
   "outputs": [],
   "source": [
    "8. Implement a lambda function to filter out all the even numbers from a list of integers."
   ]
  },
  {
   "cell_type": "code",
   "execution_count": null,
   "metadata": {},
   "outputs": [],
   "source": [
    "filter_even = lambda a: list(filter(lambda x: x % 2 == 0, a))\n",
    "numbers = [1, 2, 3, 4, 5, 6, 7, 8, 9]\n",
    "even_numbers = filter_even(numbers)\n",
    "print(even_numbers)"
   ]
  },
  {
   "cell_type": "code",
   "execution_count": null,
   "metadata": {},
   "outputs": [],
   "source": [
    "9. Write a lambda function to sort a list of strings in ascending order based on the length of each\n",
    "string."
   ]
  },
  {
   "cell_type": "code",
   "execution_count": 6,
   "metadata": {},
   "outputs": [
    {
     "name": "stdout",
     "output_type": "stream",
     "text": [
      "['date', 'apple', 'banana', 'cherry']\n"
     ]
    }
   ],
   "source": [
    "sort_by_length = lambda a: sorted(a, key=lambda x: len(x))\n",
    "words = ['apple', 'banana', 'cherry', 'date']\n",
    "sorted_words = sort_by_length(words)\n",
    "print(sorted_words) "
   ]
  },
  {
   "cell_type": "code",
   "execution_count": null,
   "metadata": {},
   "outputs": [],
   "source": [
    "10. Create a lambda function that takes two lists as input and returns a new list containing the\n",
    "common elements between the two lists."
   ]
  },
  {
   "cell_type": "code",
   "execution_count": 8,
   "metadata": {},
   "outputs": [
    {
     "name": "stdout",
     "output_type": "stream",
     "text": [
      "[4, 5]\n"
     ]
    }
   ],
   "source": [
    "find_common = lambda a1, a2: list(filter(lambda x: x in a1, a2))\n",
    "list1 = [1, 2, 3, 4, 5]\n",
    "list2 = [4, 5, 6, 7, 8]\n",
    "common_elements = find_common(list1, list2)\n",
    "print(common_elements)"
   ]
  },
  {
   "cell_type": "code",
   "execution_count": null,
   "metadata": {},
   "outputs": [],
   "source": [
    "11. Write a recursive function to calculate the factorial of a given positive integer."
   ]
  },
  {
   "cell_type": "code",
   "execution_count": 9,
   "metadata": {},
   "outputs": [
    {
     "name": "stdout",
     "output_type": "stream",
     "text": [
      "120\n"
     ]
    }
   ],
   "source": [
    "def factorial(n):\n",
    "    if n == 0:\n",
    "        return 1\n",
    "    else:\n",
    "        return n * factorial(n - 1)\n",
    "result = factorial(5)\n",
    "print(result)  \n"
   ]
  },
  {
   "cell_type": "code",
   "execution_count": null,
   "metadata": {},
   "outputs": [],
   "source": [
    "12. Implement a recursive function to compute the nth Fibonacci number."
   ]
  },
  {
   "cell_type": "code",
   "execution_count": 10,
   "metadata": {},
   "outputs": [
    {
     "name": "stdout",
     "output_type": "stream",
     "text": [
      "13\n"
     ]
    }
   ],
   "source": [
    "def fibonacci(n):\n",
    "    if n <= 1:\n",
    "        return n\n",
    "    else:\n",
    "        return fibonacci(n - 1) + fibonacci(n - 2)\n",
    "result = fibonacci(7)\n",
    "print(result)  \n"
   ]
  },
  {
   "cell_type": "code",
   "execution_count": null,
   "metadata": {},
   "outputs": [],
   "source": [
    "13. Create a recursive function to find the sum of all the elements in a given list."
   ]
  },
  {
   "cell_type": "code",
   "execution_count": 11,
   "metadata": {},
   "outputs": [
    {
     "name": "stdout",
     "output_type": "stream",
     "text": [
      "15\n"
     ]
    }
   ],
   "source": [
    "def sum_list(lst):\n",
    "    if not lst:\n",
    "        return 0\n",
    "    else:\n",
    "        return lst[0] + sum_list(lst[1:])\n",
    "result = sum_list([1, 2, 3, 4, 5])\n",
    "print(result)  \n"
   ]
  },
  {
   "cell_type": "code",
   "execution_count": null,
   "metadata": {},
   "outputs": [],
   "source": [
    "14. Write a recursive function to determine whether a given string is a palindrome."
   ]
  },
  {
   "cell_type": "code",
   "execution_count": 12,
   "metadata": {},
   "outputs": [
    {
     "name": "stdout",
     "output_type": "stream",
     "text": [
      "True\n"
     ]
    }
   ],
   "source": [
    "def is_palindrome(string):\n",
    "    if len(string) <= 1:\n",
    "        return True\n",
    "    elif string[0] != string[-1]:\n",
    "        return False\n",
    "    else:\n",
    "        return is_palindrome(string[1:-1])\n",
    "result = is_palindrome(\"racecar\")\n",
    "print(result)  \n"
   ]
  },
  {
   "cell_type": "code",
   "execution_count": null,
   "metadata": {},
   "outputs": [],
   "source": [
    "15. Implement a recursive function to find the greatest common divisor (GCD) of two positive integers."
   ]
  },
  {
   "cell_type": "code",
   "execution_count": 13,
   "metadata": {},
   "outputs": [
    {
     "name": "stdout",
     "output_type": "stream",
     "text": [
      "12\n"
     ]
    }
   ],
   "source": [
    "def gcd(a, b):\n",
    "    if b == 0:\n",
    "        return a\n",
    "    else:\n",
    "        return gcd(b, a % b)\n",
    "result = gcd(24, 36)\n",
    "print(result) \n"
   ]
  }
 ],
 "metadata": {
  "kernelspec": {
   "display_name": "base",
   "language": "python",
   "name": "python3"
  },
  "language_info": {
   "codemirror_mode": {
    "name": "ipython",
    "version": 3
   },
   "file_extension": ".py",
   "mimetype": "text/x-python",
   "name": "python",
   "nbconvert_exporter": "python",
   "pygments_lexer": "ipython3",
   "version": "3.10.9"
  },
  "orig_nbformat": 4
 },
 "nbformat": 4,
 "nbformat_minor": 2
}
