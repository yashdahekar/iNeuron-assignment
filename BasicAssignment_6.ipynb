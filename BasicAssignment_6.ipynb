{
 "cells": [
  {
   "cell_type": "code",
   "execution_count": null,
   "metadata": {},
   "outputs": [],
   "source": [
    "Q.1. What are keywords in python? Using the keyword library, print all the python keywords.\n"
   ]
  },
  {
   "cell_type": "code",
   "execution_count": 1,
   "metadata": {},
   "outputs": [
    {
     "name": "stdout",
     "output_type": "stream",
     "text": [
      "['False', 'None', 'True', 'and', 'as', 'assert', 'async', 'await', 'break', 'class', 'continue', 'def', 'del', 'elif', 'else', 'except', 'finally', 'for', 'from', 'global', 'if', 'import', 'in', 'is', 'lambda', 'nonlocal', 'not', 'or', 'pass', 'raise', 'return', 'try', 'while', 'with', 'yield']\n"
     ]
    }
   ],
   "source": [
    "\"\"\"keywords are special words that have predefined meanings and cannot be used as regular\n",
    "variable names. They are reserved for specific purposes and play a role in defining the syntax \n",
    "and structure of the Python language. These keywords have built-in functionality and should \n",
    "not be used as identifiers for variables, functions, or classes. Examples of Python keywords \n",
    "include `if`, `else`, `for`, `while`, `def`, `class`, and many others.\"\"\"\n",
    "# importing the package and printing all the keywords in pythonj\n",
    "import keyword\n",
    "print(keyword.kwlist)"
   ]
  },
  {
   "cell_type": "code",
   "execution_count": null,
   "metadata": {},
   "outputs": [],
   "source": [
    "Q.2. What are the rules to create variables in python? \n"
   ]
  },
  {
   "cell_type": "code",
   "execution_count": null,
   "metadata": {},
   "outputs": [],
   "source": [
    "\"\"\"the rules for creating variables in Python:\n",
    "\n",
    "1. Variable names must start with a letter a-z, A-Z or an underscore (_) character. They \n",
    "cannot start with a number.\n",
    "2. After the first character, variable names can contain letters, numbers, or underscores.\n",
    "3. Variable names are case-sensitive, meaning \"Yash\" and \"yash\" are considered different \n",
    "variables.\n",
    "4. Python keywords, such as \"if,\" \"for,\" or \"while,\" cannot be used as variable names.\n",
    "5. Variable names should be descriptive and meaningful.\n",
    "6. Avoid using special characters like @, $, and % in variable names.\"\"\"\n"
   ]
  },
  {
   "cell_type": "code",
   "execution_count": null,
   "metadata": {},
   "outputs": [],
   "source": [
    "Q.3. What are the standards and conventions followed for the nomenclature of variables in \n",
    "python to improve code readability and maintainability? "
   ]
  },
  {
   "cell_type": "code",
   "execution_count": null,
   "metadata": {},
   "outputs": [],
   "source": [
    "\"\"\"Here are some commonly followed standards for the nomenclature of variables in python:\n",
    "    \n",
    "Use descriptive names: Variable names should clearly convey their purpose or meaning. Avoid \n",
    "using single-character names.\n",
    "\n",
    "Use lowercase letters: Variable names should be in lowercase, with words separated by \n",
    "underscores. This convention is known as \"snake_case.\" For example: my_variable, user_input, \n",
    "total_count.\n",
    "\n",
    "Avoid reserved words: Do not use Python keywords or built-in function names as variable names. \n",
    "For example, avoid naming a variable print or list.\n",
    "\n",
    "Use nouns for object names: When naming objects or instances of classes, use nouns or noun \n",
    "phrases to represent the object's purpose. For example, user, car, order.\n",
    "\n",
    "Avoid single-letter names: Unless they represent a well-known convention or have a clear \n",
    "meaning in the context,variable names like i, j, or k.\n",
    "\"\"\""
   ]
  },
  {
   "cell_type": "code",
   "execution_count": null,
   "metadata": {},
   "outputs": [],
   "source": [
    "Q.4. What will happen if a keyword is used as a variable name? \n"
   ]
  },
  {
   "cell_type": "code",
   "execution_count": null,
   "metadata": {},
   "outputs": [],
   "source": [
    "\"\"\"If you use a keyword as a variable name in Python it's like breaking the rules of the \n",
    "language Python will get confused and show an error message called `SyntaxError` The error \n",
    "message will tell you that using a keyword as a variable name is not allowed. To fix this, you\n",
    "should choose a different name for your variable that is not a reserved keyword.\"\"\""
   ]
  },
  {
   "cell_type": "code",
   "execution_count": null,
   "metadata": {},
   "outputs": [],
   "source": [
    "Q.5. For what purpose def keyword is used? \n"
   ]
  },
  {
   "cell_type": "code",
   "execution_count": 2,
   "metadata": {},
   "outputs": [
    {
     "name": "stdout",
     "output_type": "stream",
     "text": [
      "Hello, everyone!\n"
     ]
    }
   ],
   "source": [
    "\"\"\"The def keyword in Python is used to define a function.when you want to create a block of \n",
    "reusable code that performs a specific task, you use the def keyword to define a function. \n",
    "For example: \"\"\"\n",
    "def greet():\n",
    "    print(\"Hello, everyone!\")\n",
    "greet()"
   ]
  },
  {
   "cell_type": "code",
   "execution_count": null,
   "metadata": {},
   "outputs": [],
   "source": [
    "Q.6. What is the operation of this special character ‘\\’? \n"
   ]
  },
  {
   "cell_type": "code",
   "execution_count": null,
   "metadata": {},
   "outputs": [],
   "source": [
    "\"\"\"It is used to perform certain special operations and represent certain characters in \n",
    "strings. Here are some common uses of the backslash:\n",
    "Line continuation:The backslash can be used to continue a statement onto the next line when \n",
    "the statement is too long to fit on a single line. For example:\n",
    "total = 10 + \\\n",
    "        20 + \\\n",
    "        30\n",
    "Escape sequences: The backslash is used to create escape sequences in strings\n",
    "\"\\n\" represents a newline character.\n",
    "\"\\t\" represents a tab character.\n",
    "\"\\\"\" represents a double quote character.\n",
    "\"\\'\" represents a single quote character.\n",
    "\"\\\\\" represents a literal backslash character.\n",
    "\"\"\""
   ]
  },
  {
   "cell_type": "code",
   "execution_count": null,
   "metadata": {},
   "outputs": [],
   "source": [
    "Q.7. Give an example of the following conditions: \n",
    "(i) Homogeneous list \n",
    "(ii) Heterogeneous set \n",
    "(iii) Homogeneous tuple \n"
   ]
  },
  {
   "cell_type": "code",
   "execution_count": null,
   "metadata": {},
   "outputs": [],
   "source": [
    "\"\"\"A homogeneous list is a list in which all the elements have the same data type\"\"\"\n",
    "homo_list = [2,34,4,67,7,8,,327,5,4]\n",
    "\"\"\"A heterogeneous set is a set in which the elements can have different data types.\"\"\"\n",
    "hete_set = {'yash', 34, True, None, [34,'meow']}\n",
    "\"\"\"A homogeneous tuple is a tuple in which all the elements have the same data type.\"\"\"\n",
    "homo_tuple = ('yash1','parimal','kartik','rakesh','arvid')"
   ]
  },
  {
   "cell_type": "code",
   "execution_count": null,
   "metadata": {},
   "outputs": [],
   "source": [
    "Q.8. Explain the mutable and immutable data types with proper explanation & examples."
   ]
  },
  {
   "cell_type": "code",
   "execution_count": null,
   "metadata": {},
   "outputs": [],
   "source": [
    "\"\"\"In Python, data types can be classified as either mutable or immutable based on whether \n",
    "their values can be changed after they are created.\n",
    "Mutable Data Types:\n",
    "Mutable data types can be modified or changed after they are created.\n",
    "This means that you can alter their values, add or remove elements, or modify their internal \n",
    "state.\n",
    "Examples of mutable data types in Python include lists, dictionaries, and sets.\n",
    "example: \n",
    "list1 = [1, 2, 3]\n",
    "list1[0] = 10\n",
    "print(list1)\n",
    "Immutable Data Types:\n",
    "it cannot be changed once they are created.If you want to modify an immutable object, you need \n",
    "to create a new object with the value.\n",
    "Examples of immutable data types in Python include strings, and tuples.\n",
    "example:\n",
    "tuple1 = (1, 2, 3)\n",
    "tuple1[0] = 10  # Raises TypeError: 'tuple' object does not support item assignment\"\"\"\n",
    "\n",
    "\n"
   ]
  },
  {
   "cell_type": "code",
   "execution_count": null,
   "metadata": {},
   "outputs": [],
   "source": [
    "Q.9. Write a code to create the given structure using only for loop. \n",
    "\n",
    "    * \n",
    "    \n",
    "   *** \n",
    "   \n",
    "  ***** \n",
    "  \n",
    " ******* \n",
    " \n",
    "********* \n"
   ]
  },
  {
   "cell_type": "code",
   "execution_count": 3,
   "metadata": {},
   "outputs": [
    {
     "name": "stdout",
     "output_type": "stream",
     "text": [
      "     *\n",
      "\n",
      "    ***\n",
      "\n",
      "   *****\n",
      "\n",
      "  *******\n",
      "\n",
      " *********\n",
      "\n"
     ]
    }
   ],
   "source": [
    "# num_rows = int(input('input number of rows in pyramid')) \n",
    "num_rows = 5\n",
    "for i in range(num_rows):\n",
    "    for k in range(num_rows-i,0,-1):\n",
    "        print(' ',end='')\n",
    "    for j in range(i+1):\n",
    "        if j == 0 :\n",
    "            print('*', end='')\n",
    "        elif j > 0:\n",
    "            print('**', end='')\n",
    "    print(\"\\n\")"
   ]
  },
  {
   "cell_type": "code",
   "execution_count": null,
   "metadata": {},
   "outputs": [],
   "source": [
    "Q.10. Write a code to create the given structure using while loop. \n",
    "\n",
    "||||||||| \n",
    "\n",
    " ||||||| \n",
    " \n",
    "  ||||| \n",
    "  \n",
    "   ||| \n",
    "   \n",
    "    |\n"
   ]
  },
  {
   "cell_type": "code",
   "execution_count": 4,
   "metadata": {},
   "outputs": [
    {
     "name": "stdout",
     "output_type": "stream",
     "text": [
      "|||||||||\n",
      "\n",
      " |||||||\n",
      "\n",
      "  |||||\n",
      "\n",
      "   |||\n",
      "\n",
      "    |\n",
      "\n"
     ]
    }
   ],
   "source": [
    "num_rows = 5\n",
    "for i in range(num_rows):\n",
    "    for k in range(i):\n",
    "        print(' ',end='')\n",
    "    for j in range(num_rows-i-1,-1,-1):\n",
    "        if j == 0 :\n",
    "            print('|', end='')\n",
    "        else:\n",
    "            print('||', end='')\n",
    "    print(\"\\n\")"
   ]
  }
 ],
 "metadata": {
  "kernelspec": {
   "display_name": "base",
   "language": "python",
   "name": "python3"
  },
  "language_info": {
   "codemirror_mode": {
    "name": "ipython",
    "version": 3
   },
   "file_extension": ".py",
   "mimetype": "text/x-python",
   "name": "python",
   "nbconvert_exporter": "python",
   "pygments_lexer": "ipython3",
   "version": "3.10.9"
  },
  "orig_nbformat": 4
 },
 "nbformat": 4,
 "nbformat_minor": 2
}
