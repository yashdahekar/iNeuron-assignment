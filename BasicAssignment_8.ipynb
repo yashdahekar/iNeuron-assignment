{
 "cells": [
  {
   "cell_type": "code",
   "execution_count": null,
   "id": "6490515f-8a53-449f-a64f-4436aec08f44",
   "metadata": {},
   "outputs": [],
   "source": [
    "1. In Python, what is the difference between a built-in function and a user-defined function? Provide an example of each."
   ]
  },
  {
   "cell_type": "code",
   "execution_count": 3,
   "id": "88c09d79-d03d-47a3-8969-9ee3803d2eb5",
   "metadata": {},
   "outputs": [
    {
     "name": "stdout",
     "output_type": "stream",
     "text": [
      "13\n",
      "35\n"
     ]
    }
   ],
   "source": [
    "\"\"\"Built-in Function:\n",
    "A built-in function is a function that is provided by the Python programming language \n",
    "as part of its standard library. These functions are pre-defined and readily available \n",
    "for use without requiring any additional code or module import. Built-in functions are written in C \n",
    "and are optimized for performance. They cover a wide range of functionalities and provide essential \n",
    "operations for tasks like string manipulation, mathematical calculations, file handling, etc.\n",
    "\n",
    "for example len(): len() function is a built-in function used to determine the length \"\"\"\n",
    "text = \"Hello, World!\"\n",
    "length = len(text)\n",
    "print(length) \n",
    "\n",
    "\"\"\"User-defined Function:\n",
    "A user-defined function is a function created by the programmer to perform a specific task or set of tasks.\n",
    "These functions are defined using the def keyword followed by a function name, optional parameters, \n",
    "and a block of code that defines the function's behavior. User-defined functions are modular and allow for code reuse,\n",
    "abstraction, and better organization of code.\n",
    "\n",
    "for example : multiply_numbers() is the user define funtion that takes two numbers as arguments and returns their product:\"\"\"\n",
    "\n",
    "def multiply_numbers(a, b):\n",
    "    return a * b\n",
    "result = multiply_numbers(5, 7)\n",
    "print(result)\n"
   ]
  },
  {
   "cell_type": "code",
   "execution_count": null,
   "id": "ecbe8236-e9de-4b13-8565-a7c4b6e0aa98",
   "metadata": {},
   "outputs": [],
   "source": [
    "2. How can you pass arguments to a function in Python? Explain the difference between positional arguments and keyword arguments."
   ]
  },
  {
   "cell_type": "code",
   "execution_count": 4,
   "id": "7a4549c9-6488-4a55-a360-7b5ccf5c401e",
   "metadata": {},
   "outputs": [
    {
     "name": "stdout",
     "output_type": "stream",
     "text": [
      "Hello Yash !\n",
      "You are 25 years old.\n",
      "Hello Yash !\n",
      "You are 25 years old.\n",
      "Hello Meow !\n",
      "You are 30 years old.\n"
     ]
    }
   ],
   "source": [
    "'''you can pass arguments to a function in multiple ways: positional arguments, keyword arguments, and default arguments\n",
    "Positional Arguments:\n",
    "Positional arguments are the most basic way to pass arguments to a function in Python. When you define a function, \n",
    "you specify the parameters it expects to receive. When you call the function, you pass the corresponding arguments in \n",
    "the same order as the parameters are defined.\n",
    "Here's an example:'''\n",
    "\n",
    "def greet(name, age):\n",
    "    print(\"Hello\", name, \"!\")\n",
    "    print(\"You are\", age, \"years old.\")\n",
    "\n",
    "greet(\"Yash\", 25)\n",
    "\n",
    "'''Keyword Arguments:\n",
    "Keyword arguments allow you to pass arguments to a function by explicitly specifying the parameter name followed by the\n",
    "corresponding value. This allows you to pass arguments in any order, regardless of their position in the function definition.\n",
    "Here's an example:'''\n",
    "\n",
    "def greet(name, age):\n",
    "    print(\"Hello\", name, \"!\")\n",
    "    print(\"You are\", age, \"years old.\")\n",
    "\n",
    "greet(age=25, name=\"Yash\")\n",
    "\n",
    "\n",
    "'''Default Arguments:\n",
    "Default arguments allow you to specify a default value for a parameter in a function. If an argument is not provided when calling\n",
    "the function, the default value will be used.\n",
    "Here's an example:'''\n",
    "\n",
    "def greet(name, age=30):\n",
    "    print(\"Hello\", name, \"!\")\n",
    "    print(\"You are\", age, \"years old.\")\n",
    "\n",
    "greet(\"Meow\")\n"
   ]
  },
  {
   "cell_type": "code",
   "execution_count": null,
   "id": "ea7a8356-4036-4a14-9e68-01fd104d5402",
   "metadata": {},
   "outputs": [],
   "source": [
    "3. What is the purpose of the return statement in a function? Can a function have multiple return statements? Explain with an example."
   ]
  },
  {
   "cell_type": "code",
   "execution_count": 5,
   "id": "f2c76eb4-05a2-4e4e-a1f4-285cb9cab672",
   "metadata": {},
   "outputs": [
    {
     "name": "stdout",
     "output_type": "stream",
     "text": [
      "The grade for the student is: B\n"
     ]
    }
   ],
   "source": [
    "'''The purpose of the return statement in a function is to specify the value(s) that the function should output\n",
    "or \"return\" back to the caller. It allows the function to compute a result or perform certain actions and provide\n",
    "the result or information back to the code that called the function.\n",
    "A function can indeed have multiple return statements. However, when a return statement is encountered, the function\n",
    "execution immediately stops, and the specified value is returned. This means that only one return statement will be\n",
    "executed during the function's execution, and the function will terminate at that point.\n",
    "\n",
    "example : '''\n",
    "\n",
    "def get_grade(score):\n",
    "    if score >= 90:\n",
    "        return \"A\"\n",
    "    elif score >= 80:\n",
    "        return \"B\"\n",
    "    elif score >= 70:\n",
    "        return \"C\"\n",
    "    elif score >= 60:\n",
    "        return \"D\"\n",
    "    else:\n",
    "        return \"F\"\n",
    "\n",
    "student_score = 85\n",
    "grade = get_grade(student_score)\n",
    "print(\"The grade for the student is:\", grade)"
   ]
  },
  {
   "cell_type": "code",
   "execution_count": null,
   "id": "79aca628-8617-41c2-92f1-d71f071f122d",
   "metadata": {},
   "outputs": [],
   "source": [
    "4. What are lambda functions in Python? How are they different from regular functions? Provide an example where a lambda function can be useful."
   ]
  },
  {
   "cell_type": "code",
   "execution_count": null,
   "id": "46ac8592-dab8-4b08-8d3c-98712672d6ae",
   "metadata": {},
   "outputs": [],
   "source": [
    "'''lambda function is a small anonymous function. It is defined using the lambda keyword, and it can take\n",
    "any number of arguments, but can only have one expression. Lambda functions are often used in conjunction\n",
    "with other functions, such as map() and filter().\n",
    "example of a lambda function:'''\n",
    "\n",
    "double = lambda x: x * 2\n",
    "double(10)\n",
    "\n",
    "\n",
    "'''Lambda functions are different from regular functions in a few ways. First, they are anonymous, which means\n",
    "they do not have a name. Second, they can only have one expression. Third, they are often used in conjunction \n",
    "with other functions.\n",
    "example of how a lambda function can be useful. Let's say you have a list of numbers, and you want to double each\n",
    "number. You could use the map() function to do this:'''\n",
    "\n",
    "numbers = [1, 2, 3, 4, 5]\n",
    "doubled_numbers = map(lambda x: x * 2, numbers)\n",
    "doubled_numbers\n",
    "\n",
    "'''As you can see, the map() function takes a function and an iterable as arguments. The function is then called with\n",
    "each item in the iterable, and the results are returned as a new iterable. In this case, the function is the lambda\n",
    "function double, which doubles each number in the list.'''"
   ]
  },
  {
   "cell_type": "code",
   "execution_count": null,
   "id": "0a71d247-ff04-447a-a6f4-a7dd68d7038f",
   "metadata": {},
   "outputs": [],
   "source": [
    "5. How does the concept of \"scope\" apply to functions in Python? Explain the difference between local scope and global scope."
   ]
  },
  {
   "cell_type": "code",
   "execution_count": 6,
   "id": "b2326a20-7345-4308-a258-4c6bfcad29e0",
   "metadata": {},
   "outputs": [
    {
     "name": "stdout",
     "output_type": "stream",
     "text": [
      "10\n"
     ]
    }
   ],
   "source": [
    "'''The concept of \"scope\" in Python refers to the region of a program where a variable is accessible.\n",
    "Variables can only be accessed within their scope. There are three types of scopes in Python:\n",
    "\n",
    "Local scope: This is the scope of a function. Variables declared inside a function are only accessible within that function.\n",
    "Global scope: This is the scope of the entire program. Variables declared outside of any function are in the global scope.\n",
    "Built-in scope: This is the scope of Python's built-in functions and variables. Variables in this scope can be accessed from anywhere in the program.\n",
    "\n",
    "The difference between local and global variables is that local variables are only accessible within the function in which they are declared,\n",
    "while global variables are accessible from anywhere in the program.\n",
    "\n",
    "Here is an example of a function with a local variable:'''\n",
    "\n",
    "def foo():\n",
    "    # This is a local variable\n",
    "    local_var = 10\n",
    "    print(local_var)\n",
    "    \n",
    "'''Here is an example of a global variable:'''\n",
    "\n",
    "var = 10\n",
    "def foo():\n",
    "    print(var)\n",
    "\n",
    "foo()\n"
   ]
  },
  {
   "cell_type": "code",
   "execution_count": null,
   "id": "43e763af-99df-4d31-be97-bcf0c9907d9f",
   "metadata": {},
   "outputs": [],
   "source": [
    "6. How can you use the \"return\" statement in a Python function to return multiple values?"
   ]
  },
  {
   "cell_type": "code",
   "execution_count": 7,
   "id": "a4411a52-e02f-4b0d-a4e9-d105aaedf5a2",
   "metadata": {},
   "outputs": [
    {
     "name": "stdout",
     "output_type": "stream",
     "text": [
      "('Alice', 30, 'Engineer')\n",
      "[10, 20, 30]\n",
      "10\n",
      "{'name': 'Alice', 'age': 30, 'occupation': 'Engineer'}\n"
     ]
    }
   ],
   "source": [
    "'''you can use the return statement in a function to return multiple values by combining them into a \n",
    "data structure such as a tuple, list, or dictionary. Here are a few approaches:\n",
    "\n",
    "Returning a Tuple:'''\n",
    "\n",
    "def get_person_details():\n",
    "    name = \"Alice\"\n",
    "    age = 30\n",
    "    occupation = \"Engineer\"\n",
    "    return name, age, occupation\n",
    "\n",
    "person = get_person_details()\n",
    "print(person)  # Output: (\"Alice\", 30, \"Engineer\")\n",
    "\n",
    "'''Returning a List:'''\n",
    "\n",
    "def get_numbers():\n",
    "    num1 = 10\n",
    "    num2 = 20\n",
    "    num3 = 30\n",
    "    return [num1, num2, num3]\n",
    "\n",
    "numbers = get_numbers()\n",
    "print(numbers)  # Output: [10, 20, 30]\n",
    "print(numbers[0])  # Output: 10\n",
    "\n",
    "'''returning Dictionary'''\n",
    "\n",
    "def get_person_info():\n",
    "    person = {\n",
    "        \"name\": \"Alice\",\n",
    "        \"age\": 30,\n",
    "        \"occupation\": \"Engineer\"\n",
    "    }\n",
    "    return person\n",
    "\n",
    "person_info = get_person_info()\n",
    "print(person_info)  # Output: {'name': 'Alice', 'age': 30, 'occupation': 'Engineer'}\n"
   ]
  },
  {
   "cell_type": "code",
   "execution_count": null,
   "id": "535428d7-4ace-4f2e-96b4-1407a82a50a1",
   "metadata": {},
   "outputs": [],
   "source": [
    "7. What is the difference between the \"pass by value\" and \"pass by reference\" concepts when it\n",
    "comes to function arguments in Python?"
   ]
  },
  {
   "cell_type": "code",
   "execution_count": 8,
   "id": "d792de09-a661-443c-82d8-f39f32fe795e",
   "metadata": {},
   "outputs": [
    {
     "name": "stdout",
     "output_type": "stream",
     "text": [
      "10\n",
      "[1, 2, 3, 4]\n"
     ]
    }
   ],
   "source": [
    "'''Pass by Value (Immutable Objects):\n",
    "For immutable objects, such as numbers, strings, and tuples, the value is passed to the function.\n",
    "Any modifications made to the parameter inside the function do not affect the original object \n",
    "outside the function.\n",
    "Example:'''\n",
    "\n",
    "def update_value(num):\n",
    "    num += 5\n",
    "\n",
    "x = 10\n",
    "update_value(x)\n",
    "print(x)  # Output: 10\n",
    "\n",
    "'''Pass by Reference (Mutable Objects):\n",
    "For mutable objects, such as lists and dictionaries, a reference to the object is passed to the function. Any changes made to the object inside the function can affect the original object outside the function.\n",
    "Example:'''\n",
    "    \n",
    "def update_list(my_list):\n",
    "    my_list.append(4)\n",
    "\n",
    "my_numbers = [1, 2, 3]\n",
    "update_list(my_numbers)\n",
    "print(my_numbers)  # Output: [1, 2, 3, 4]\n",
    "\n"
   ]
  },
  {
   "cell_type": "code",
   "execution_count": null,
   "id": "83584f56-1f07-45ed-bcc3-ec6a21a28581",
   "metadata": {},
   "outputs": [],
   "source": [
    "8. Create a function that can intake integer or decimal value and do following operations:\n",
    "a. Logarithmic function (log x)\n",
    "b. Exponential function (exp(x))\n",
    "c. Power function with base 2 (2x)\n",
    "d. Square root"
   ]
  },
  {
   "cell_type": "code",
   "execution_count": 9,
   "id": "fe4801aa-3849-4fad-9550-6b6c2bcf70cc",
   "metadata": {},
   "outputs": [
    {
     "name": "stdout",
     "output_type": "stream",
     "text": [
      "Logarithm: 1\n",
      "Exponential: 148.41265995084171\n",
      "Power of 2: 32.0\n",
      "Square Root: 2.2360679779158037\n"
     ]
    }
   ],
   "source": [
    "def mathoper(x):\n",
    "    logarithm = calculate_log(x)\n",
    "    exponential = calculate_exp(x)\n",
    "    power = calculate_power(x)\n",
    "    square_root = calculate_square_root(x)\n",
    "    return logarithm, exponential, power, square_root\n",
    "\n",
    "def calculate_log(x):\n",
    "    if x <= 0:\n",
    "        return None\n",
    "    result = 0\n",
    "    while x > 1:\n",
    "        x /= 10\n",
    "        result += 1\n",
    "    return result\n",
    "\n",
    "def calculate_exp(x):\n",
    "    result = 1\n",
    "    for _ in range(int(x)):\n",
    "        result *= 2.71828  # Approximation of e\n",
    "    return result\n",
    "\n",
    "def calculate_power(x):\n",
    "    return 2 ** x\n",
    "\n",
    "def calculate_square_root(x):\n",
    "    if x < 0:\n",
    "        return None\n",
    "    if x == 0:\n",
    "        return 0\n",
    "    approx = x / 2\n",
    "    while True:\n",
    "        better_approx = (approx + x / approx) / 2\n",
    "        if abs(approx - better_approx) < 0.0001:  # Precision threshold\n",
    "            return better_approx\n",
    "        approx = better_approx\n",
    "\n",
    "value = 5.0\n",
    "results = mathoper(value)\n",
    "print(f\"Logarithm: {results[0]}\")\n",
    "print(f\"Exponential: {results[1]}\")\n",
    "print(f\"Power of 2: {results[2]}\")\n",
    "print(f\"Square Root: {results[3]}\")\n"
   ]
  },
  {
   "cell_type": "code",
   "execution_count": null,
   "id": "d349659c-0fde-4277-83fc-5ba82af16951",
   "metadata": {},
   "outputs": [],
   "source": [
    "9. Create a function that takes a full name as an argument and returns first name and last name."
   ]
  },
  {
   "cell_type": "code",
   "execution_count": 10,
   "id": "e50779b4-07a9-4509-8a7e-998dc34d85ed",
   "metadata": {},
   "outputs": [
    {
     "name": "stdout",
     "output_type": "stream",
     "text": [
      "First Name: John\n",
      "Last Name: Doe\n"
     ]
    }
   ],
   "source": [
    "def get_first_last_name(full_name):\n",
    "    names = full_name.split()\n",
    "    first_name = names[0]\n",
    "    last_name = names[-1]\n",
    "    return first_name, last_name\n",
    "\n",
    "name = \"John Doe\"\n",
    "first_name, last_name = get_first_last_name(name)\n",
    "print(\"First Name:\", first_name)\n",
    "print(\"Last Name:\", last_name)\n"
   ]
  }
 ],
 "metadata": {
  "kernelspec": {
   "display_name": "Python 3 (ipykernel)",
   "language": "python",
   "name": "python3"
  },
  "language_info": {
   "codemirror_mode": {
    "name": "ipython",
    "version": 3
   },
   "file_extension": ".py",
   "mimetype": "text/x-python",
   "name": "python",
   "nbconvert_exporter": "python",
   "pygments_lexer": "ipython3",
   "version": "3.10.9"
  }
 },
 "nbformat": 4,
 "nbformat_minor": 5
}
