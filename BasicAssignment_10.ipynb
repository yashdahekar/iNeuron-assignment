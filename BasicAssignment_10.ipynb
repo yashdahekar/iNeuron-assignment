{
 "cells": [
  {
   "cell_type": "code",
   "execution_count": null,
   "metadata": {},
   "outputs": [],
   "source": [
    "1. What is the role of try and exception block?"
   ]
  },
  {
   "cell_type": "code",
   "execution_count": null,
   "metadata": {},
   "outputs": [],
   "source": [
    "The try-except block is used to handle exceptions or errors that may occur during the execution of a program.\n",
    "It allows you to write code that can anticipate and handle potential errors gracefully, preventing the \n",
    "program from crashing and allowing you to provide alternative actions or error handling mechanisms.\n"
   ]
  },
  {
   "cell_type": "code",
   "execution_count": null,
   "metadata": {},
   "outputs": [],
   "source": [
    "2. What is the syntax for a basic try-except block?"
   ]
  },
  {
   "cell_type": "code",
   "execution_count": null,
   "metadata": {},
   "outputs": [],
   "source": [
    "# The syntax for a basic try-except block in Python is \n",
    "\n",
    "try:\n",
    "    # Code that might raise an exception\n",
    "    # ...\n",
    "except ExceptionType:\n",
    "    # Code to handle the exception\n",
    "    # ..."
   ]
  },
  {
   "cell_type": "code",
   "execution_count": null,
   "metadata": {},
   "outputs": [],
   "source": [
    "3. What happens if an exception occurs inside a try block and there is no matching\n",
    "except block?"
   ]
  },
  {
   "cell_type": "code",
   "execution_count": null,
   "metadata": {},
   "outputs": [],
   "source": [
    "If an exception occurs inside a try block and there is no matching except block to handle that specific \n",
    "exception type, the exception will propagate up the call stack. This means that the program will terminate, \n",
    "and the default exception handling mechanism of the programming language will come into play. Typically, this \n",
    "results in an error message being displayed, and the program execution is halted.\n",
    "\n",
    "When an exception is not caught and handled by an except block, it is considered an unhandled exception. The \n",
    "default behavior of most programming languages is to print an error message, including the type of the \n",
    "exception, a description of the error, and the traceback information. The traceback shows the sequence of \n",
    "function calls that led to the point where the exception occurred, allowing developers to trace the error \n",
    "back to its origin.\n",
    "\n",
    "Unhandled exceptions can cause the program to crash abruptly and may lead to unexpected behavior. They can \n",
    "also make it challenging to identify and fix issues in the code. It is generally recommended to handle \n",
    "exceptions appropriately by providing matching except blocks to catch and handle specific exception types. \n",
    "This allows for controlled error handling and the ability to provide customized error messages or recovery \n",
    "mechanisms based on the specific exception type."
   ]
  },
  {
   "cell_type": "code",
   "execution_count": null,
   "metadata": {},
   "outputs": [],
   "source": [
    "4. What is the difference between using a bare except block and specifying a specific\n",
    "exception type?"
   ]
  },
  {
   "cell_type": "code",
   "execution_count": null,
   "metadata": {},
   "outputs": [],
   "source": [
    "Bare except block:\n",
    "\n",
    "Syntax: except: (without specifying any particular exception type)\n",
    "Effect: Catches and handles all types of exceptions.\n",
    "Pros: Convenient for capturing unexpected exceptions and preventing program crashes.\n",
    "Cons: Makes it harder to identify specific issues, can hide important exceptions, and may lead to less \n",
    "precise error handling.\n",
    "\n",
    "Specific exception type:\n",
    "    \n",
    "Syntax: except ExceptionType: (e.g., except ValueError:)\n",
    "Effect: Catches and handles only the specified exception type.\n",
    "Pros: Enables precise exception handling and better control over program behavior.\n",
    "Cons: Requires identifying and specifying relevant exception types, and unhandled exceptions of other types \n",
    "can still occur."
   ]
  },
  {
   "cell_type": "code",
   "execution_count": null,
   "metadata": {},
   "outputs": [],
   "source": [
    "5. Can you have nested try-except blocks in Python? If yes, then give an example."
   ]
  },
  {
   "cell_type": "code",
   "execution_count": 2,
   "metadata": {},
   "outputs": [
    {
     "name": "stdout",
     "output_type": "stream",
     "text": [
      "Error: Division by zero\n",
      "Error: Invalid conversion\n"
     ]
    }
   ],
   "source": [
    "'''Yes, nested try-except blocks are allowed in Python. This means you can have a try block within another \n",
    "try block, and each try block can have its corresponding except block. \n",
    "example:'''\n",
    "try:\n",
    "    outer_variable = 10 / 0  \n",
    "except ZeroDivisionError:\n",
    "    print(\"Error: Division by zero\")\n",
    "    try:\n",
    "        inner_variable = int(\"abc\")  \n",
    "    except ValueError:\n",
    "        print(\"Error: Invalid conversion\")"
   ]
  },
  {
   "cell_type": "code",
   "execution_count": null,
   "metadata": {},
   "outputs": [],
   "source": [
    "6. Can we use multiple exception blocks, if yes then give an example."
   ]
  },
  {
   "cell_type": "code",
   "execution_count": null,
   "metadata": {},
   "outputs": [],
   "source": [
    "# Yes, it is possible to use multiple except blocks to handle different types of exceptions:\n",
    "'''\n",
    "try:\n",
    "    # Code that may raise exceptions\n",
    "    # ...\n",
    "except ValueError:\n",
    "    # Code to handle ValueError\n",
    "    # ...\n",
    "except FileNotFoundError:\n",
    "    # Code to handle FileNotFoundError\n",
    "    # ...\n",
    "except:\n",
    "    # Code to handle any other exception\n",
    "    # ...\n",
    "'''"
   ]
  },
  {
   "cell_type": "code",
   "execution_count": null,
   "metadata": {},
   "outputs": [],
   "source": [
    "7. Write the reason due to which following errors are raised:\n",
    "a. EOFError\n",
    "b. FloatingPointError\n",
    "c. IndexError\n",
    "d. MemoryError\n",
    "e. OverflowError\n",
    "f. TabError\n",
    "g. ValueError"
   ]
  },
  {
   "cell_type": "code",
   "execution_count": null,
   "metadata": {},
   "outputs": [],
   "source": [
    "# the reasons for the mentioned errors:\n",
    "\n",
    "'''\n",
    "a. EOFError: This error occurs when the input() function or the raw_input() function reaches the end of the \n",
    "file or input stream unexpectedly. It typically happens when you try to read input but encounter an \n",
    "unexpected end of the input source.\n",
    "\n",
    "b. FloatingPointError: This error occurs when a floating-point operation fails to produce a valid result. It \n",
    "typically occurs in situations like dividing a number by zero or performing calculations that lead to an \n",
    "overflow or underflow in the floating-point representation.\n",
    "\n",
    "c. IndexError: This error occurs when you try to access an index of a sequence (e.g., list, tuple, or string) \n",
    "that is outside the valid range of indices. It happens when you try to access an element at an index that \n",
    "doesn't exist in the sequence.\n",
    "\n",
    "d. MemoryError: This error occurs when the program's request for a specific amount of memory from the \n",
    "operating system fails. It indicates that the program has exhausted the available memory and cannot allocate \n",
    "any more.\n",
    "\n",
    "e. OverflowError: This error occurs when a mathematical operation exceeds the maximum limit of a numeric \n",
    "type. For example, it can happen when trying to calculate an integer that is larger than the maximum value \n",
    "representable by the integer type.\n",
    "\n",
    "f. TabError: This error occurs when there is an improper use of tabs and spaces for indentation in Python \n",
    "code. It usually happens when mixing tabs and spaces inconsistently or using an incorrect number of \n",
    "indentation spaces in an indented block.\n",
    "\n",
    "g. ValueError: This error occurs when a function receives an argument of the correct type but with an invalid \n",
    "value. It can happen, for example, when trying to convert a string to a numeric type, but the string does not \n",
    "represent a valid number.'''\n"
   ]
  },
  {
   "cell_type": "code",
   "execution_count": null,
   "metadata": {},
   "outputs": [],
   "source": [
    "8. Write code for the following given scenario and add try-exception block to it.\n",
    "a. Program to divide two numbers\n",
    "b. Program to convert a string to an integer\n",
    "c. Program to access an element in a list\n",
    "d. Program to handle a specific exception\n",
    "e. Program to handle any exception"
   ]
  },
  {
   "cell_type": "code",
   "execution_count": 1,
   "metadata": {},
   "outputs": [
    {
     "name": "stdout",
     "output_type": "stream",
     "text": [
      "Result: 1.0\n",
      "Number: 2\n",
      "Element: 3\n",
      "Result: 5.0\n",
      "Result: 1.0\n"
     ]
    }
   ],
   "source": [
    "# a. Program to divide two numbers:\n",
    "\n",
    "try:\n",
    "    num1 = int(input(\"Enter the first number: \"))\n",
    "    num2 = int(input(\"Enter the second number: \"))\n",
    "    result = num1 / num2\n",
    "    print(\"Result:\", result)\n",
    "except ZeroDivisionError:\n",
    "    print(\"Error: Division by zero\")\n",
    "except ValueError:\n",
    "    print(\"Error: Invalid input, please enter numbers only\")\n",
    "\n",
    "\n",
    "# b. Program to convert a string to an integer:\n",
    "\n",
    "try:\n",
    "    string_num = input(\"Enter a number: \")\n",
    "    num = int(string_num)\n",
    "    print(\"Number:\", num)\n",
    "except ValueError:\n",
    "    print(\"Error: Invalid input, please enter a valid integer\")\n",
    "\n",
    "\n",
    "# c. Program to access an element in a list:\n",
    "\n",
    "try:\n",
    "    my_list = [1, 2, 3, 4, 5]\n",
    "    index = int(input(\"Enter an index: \"))\n",
    "    element = my_list[index]\n",
    "    print(\"Element:\", element)\n",
    "except IndexError:\n",
    "    print(\"Error: Index out of range\")\n",
    "except ValueError:\n",
    "    print(\"Error: Invalid input, please enter a valid index\")\n",
    "\n",
    "\n",
    "# d. Program to handle a specific exception:\n",
    "\n",
    "try:\n",
    "    num = int(input(\"Enter a number: \"))\n",
    "    result = 10 / num\n",
    "    print(\"Result:\", result)\n",
    "except ZeroDivisionError:\n",
    "    print(\"Error: Division by zero\")\n",
    "\n",
    "\n",
    "# e. Program to handle any exception:\n",
    "\n",
    "try:\n",
    "    # Code that may raise exceptions\n",
    "    num1 = int(input(\"Enter the first number: \"))\n",
    "    num2 = int(input(\"Enter the second number: \"))\n",
    "    result = num1 / num2\n",
    "    print(\"Result:\", result)\n",
    "except Exception as e:\n",
    "    print(\"An error occurred:\", str(e))\n"
   ]
  }
 ],
 "metadata": {
  "kernelspec": {
   "display_name": "base",
   "language": "python",
   "name": "python3"
  },
  "language_info": {
   "codemirror_mode": {
    "name": "ipython",
    "version": 3
   },
   "file_extension": ".py",
   "mimetype": "text/x-python",
   "name": "python",
   "nbconvert_exporter": "python",
   "pygments_lexer": "ipython3",
   "version": "3.10.9"
  },
  "orig_nbformat": 4
 },
 "nbformat": 4,
 "nbformat_minor": 2
}
